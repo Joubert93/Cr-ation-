{
  "cells": [
    {
      "cell_type": "markdown",
      "metadata": {
        "id": "view-in-github",
        "colab_type": "text"
      },
      "source": [
        "<a href=\"https://colab.research.google.com/github/Joubert93/Cr-ation-/blob/main/DIABETS_Project.ipynb\" target=\"_parent\"><img src=\"https://colab.research.google.com/assets/colab-badge.svg\" alt=\"Open In Colab\"/></a>"
      ]
    },
    {
      "cell_type": "markdown",
      "id": "9a8f8de1",
      "metadata": {
        "id": "9a8f8de1"
      },
      "source": [
        "# DIABETS PROJECT"
      ]
    },
    {
      "cell_type": "markdown",
      "id": "2d3561ea",
      "metadata": {
        "id": "2d3561ea"
      },
      "source": [
        "### IMPORTATION DES BIBLIOTHEQUES"
      ]
    },
    {
      "cell_type": "code",
      "execution_count": null,
      "id": "c20e4614",
      "metadata": {
        "id": "c20e4614"
      },
      "outputs": [],
      "source": [
        "import numpy as np\n",
        "import pandas as pd\n",
        "from sklearn.model_selection import train_test_split\n",
        "from sklearn.preprocessing import StandardScaler\n",
        "from sklearn.linear_model import LogisticRegression\n",
        "from sklearn.metrics import accuracy_score, classification_report, confusion_matrix"
      ]
    },
    {
      "cell_type": "markdown",
      "id": "0016ad1a",
      "metadata": {
        "id": "0016ad1a"
      },
      "source": [
        "### Chargement du jeu de données à partir d'un fichier CSV"
      ]
    },
    {
      "cell_type": "code",
      "execution_count": null,
      "id": "dbac8253",
      "metadata": {
        "scrolled": true,
        "colab": {
          "base_uri": "https://localhost:8080/",
          "height": 478
        },
        "id": "dbac8253",
        "outputId": "befe662f-d103-4781-b94b-def2ad0400bb"
      },
      "outputs": [
        {
          "output_type": "execute_result",
          "data": {
            "text/plain": [
              "     Age  Gender Polyuria Polydipsia sudden weight loss weakness Polyphagia  \\\n",
              "0     40    Male       No        Yes                 No      Yes         No   \n",
              "1     58    Male       No         No                 No      Yes         No   \n",
              "2     41    Male      Yes         No                 No      Yes        Yes   \n",
              "3     45    Male       No         No                Yes      Yes        Yes   \n",
              "4     60    Male      Yes        Yes                Yes      Yes        Yes   \n",
              "..   ...     ...      ...        ...                ...      ...        ...   \n",
              "515   39  Female      Yes        Yes                Yes       No        Yes   \n",
              "516   48  Female      Yes        Yes                Yes      Yes        Yes   \n",
              "517   58  Female      Yes        Yes                Yes      Yes        Yes   \n",
              "518   32  Female       No         No                 No      Yes         No   \n",
              "519   42    Male       No         No                 No       No         No   \n",
              "\n",
              "    Genital thrush visual blurring Itching Irritability delayed healing  \\\n",
              "0               No              No     Yes           No             Yes   \n",
              "1               No             Yes      No           No              No   \n",
              "2               No              No     Yes           No             Yes   \n",
              "3              Yes              No     Yes           No             Yes   \n",
              "4               No             Yes     Yes          Yes             Yes   \n",
              "..             ...             ...     ...          ...             ...   \n",
              "515             No              No     Yes           No             Yes   \n",
              "516             No              No     Yes          Yes             Yes   \n",
              "517             No             Yes      No           No              No   \n",
              "518             No             Yes     Yes           No             Yes   \n",
              "519             No              No      No           No              No   \n",
              "\n",
              "    partial paresis muscle stiffness Alopecia Obesity     class  \n",
              "0                No              Yes      Yes     Yes  Positive  \n",
              "1               Yes               No      Yes      No  Positive  \n",
              "2                No              Yes      Yes      No  Positive  \n",
              "3                No               No       No      No  Positive  \n",
              "4               Yes              Yes      Yes     Yes  Positive  \n",
              "..              ...              ...      ...     ...       ...  \n",
              "515             Yes               No       No      No  Positive  \n",
              "516             Yes               No       No      No  Positive  \n",
              "517             Yes              Yes       No     Yes  Positive  \n",
              "518              No               No      Yes      No  Negative  \n",
              "519              No               No       No      No  Negative  \n",
              "\n",
              "[520 rows x 17 columns]"
            ],
            "text/html": [
              "\n",
              "  <div id=\"df-39b35481-fffa-4f63-a697-9a6abd5009e0\" class=\"colab-df-container\">\n",
              "    <div>\n",
              "<style scoped>\n",
              "    .dataframe tbody tr th:only-of-type {\n",
              "        vertical-align: middle;\n",
              "    }\n",
              "\n",
              "    .dataframe tbody tr th {\n",
              "        vertical-align: top;\n",
              "    }\n",
              "\n",
              "    .dataframe thead th {\n",
              "        text-align: right;\n",
              "    }\n",
              "</style>\n",
              "<table border=\"1\" class=\"dataframe\">\n",
              "  <thead>\n",
              "    <tr style=\"text-align: right;\">\n",
              "      <th></th>\n",
              "      <th>Age</th>\n",
              "      <th>Gender</th>\n",
              "      <th>Polyuria</th>\n",
              "      <th>Polydipsia</th>\n",
              "      <th>sudden weight loss</th>\n",
              "      <th>weakness</th>\n",
              "      <th>Polyphagia</th>\n",
              "      <th>Genital thrush</th>\n",
              "      <th>visual blurring</th>\n",
              "      <th>Itching</th>\n",
              "      <th>Irritability</th>\n",
              "      <th>delayed healing</th>\n",
              "      <th>partial paresis</th>\n",
              "      <th>muscle stiffness</th>\n",
              "      <th>Alopecia</th>\n",
              "      <th>Obesity</th>\n",
              "      <th>class</th>\n",
              "    </tr>\n",
              "  </thead>\n",
              "  <tbody>\n",
              "    <tr>\n",
              "      <th>0</th>\n",
              "      <td>40</td>\n",
              "      <td>Male</td>\n",
              "      <td>No</td>\n",
              "      <td>Yes</td>\n",
              "      <td>No</td>\n",
              "      <td>Yes</td>\n",
              "      <td>No</td>\n",
              "      <td>No</td>\n",
              "      <td>No</td>\n",
              "      <td>Yes</td>\n",
              "      <td>No</td>\n",
              "      <td>Yes</td>\n",
              "      <td>No</td>\n",
              "      <td>Yes</td>\n",
              "      <td>Yes</td>\n",
              "      <td>Yes</td>\n",
              "      <td>Positive</td>\n",
              "    </tr>\n",
              "    <tr>\n",
              "      <th>1</th>\n",
              "      <td>58</td>\n",
              "      <td>Male</td>\n",
              "      <td>No</td>\n",
              "      <td>No</td>\n",
              "      <td>No</td>\n",
              "      <td>Yes</td>\n",
              "      <td>No</td>\n",
              "      <td>No</td>\n",
              "      <td>Yes</td>\n",
              "      <td>No</td>\n",
              "      <td>No</td>\n",
              "      <td>No</td>\n",
              "      <td>Yes</td>\n",
              "      <td>No</td>\n",
              "      <td>Yes</td>\n",
              "      <td>No</td>\n",
              "      <td>Positive</td>\n",
              "    </tr>\n",
              "    <tr>\n",
              "      <th>2</th>\n",
              "      <td>41</td>\n",
              "      <td>Male</td>\n",
              "      <td>Yes</td>\n",
              "      <td>No</td>\n",
              "      <td>No</td>\n",
              "      <td>Yes</td>\n",
              "      <td>Yes</td>\n",
              "      <td>No</td>\n",
              "      <td>No</td>\n",
              "      <td>Yes</td>\n",
              "      <td>No</td>\n",
              "      <td>Yes</td>\n",
              "      <td>No</td>\n",
              "      <td>Yes</td>\n",
              "      <td>Yes</td>\n",
              "      <td>No</td>\n",
              "      <td>Positive</td>\n",
              "    </tr>\n",
              "    <tr>\n",
              "      <th>3</th>\n",
              "      <td>45</td>\n",
              "      <td>Male</td>\n",
              "      <td>No</td>\n",
              "      <td>No</td>\n",
              "      <td>Yes</td>\n",
              "      <td>Yes</td>\n",
              "      <td>Yes</td>\n",
              "      <td>Yes</td>\n",
              "      <td>No</td>\n",
              "      <td>Yes</td>\n",
              "      <td>No</td>\n",
              "      <td>Yes</td>\n",
              "      <td>No</td>\n",
              "      <td>No</td>\n",
              "      <td>No</td>\n",
              "      <td>No</td>\n",
              "      <td>Positive</td>\n",
              "    </tr>\n",
              "    <tr>\n",
              "      <th>4</th>\n",
              "      <td>60</td>\n",
              "      <td>Male</td>\n",
              "      <td>Yes</td>\n",
              "      <td>Yes</td>\n",
              "      <td>Yes</td>\n",
              "      <td>Yes</td>\n",
              "      <td>Yes</td>\n",
              "      <td>No</td>\n",
              "      <td>Yes</td>\n",
              "      <td>Yes</td>\n",
              "      <td>Yes</td>\n",
              "      <td>Yes</td>\n",
              "      <td>Yes</td>\n",
              "      <td>Yes</td>\n",
              "      <td>Yes</td>\n",
              "      <td>Yes</td>\n",
              "      <td>Positive</td>\n",
              "    </tr>\n",
              "    <tr>\n",
              "      <th>...</th>\n",
              "      <td>...</td>\n",
              "      <td>...</td>\n",
              "      <td>...</td>\n",
              "      <td>...</td>\n",
              "      <td>...</td>\n",
              "      <td>...</td>\n",
              "      <td>...</td>\n",
              "      <td>...</td>\n",
              "      <td>...</td>\n",
              "      <td>...</td>\n",
              "      <td>...</td>\n",
              "      <td>...</td>\n",
              "      <td>...</td>\n",
              "      <td>...</td>\n",
              "      <td>...</td>\n",
              "      <td>...</td>\n",
              "      <td>...</td>\n",
              "    </tr>\n",
              "    <tr>\n",
              "      <th>515</th>\n",
              "      <td>39</td>\n",
              "      <td>Female</td>\n",
              "      <td>Yes</td>\n",
              "      <td>Yes</td>\n",
              "      <td>Yes</td>\n",
              "      <td>No</td>\n",
              "      <td>Yes</td>\n",
              "      <td>No</td>\n",
              "      <td>No</td>\n",
              "      <td>Yes</td>\n",
              "      <td>No</td>\n",
              "      <td>Yes</td>\n",
              "      <td>Yes</td>\n",
              "      <td>No</td>\n",
              "      <td>No</td>\n",
              "      <td>No</td>\n",
              "      <td>Positive</td>\n",
              "    </tr>\n",
              "    <tr>\n",
              "      <th>516</th>\n",
              "      <td>48</td>\n",
              "      <td>Female</td>\n",
              "      <td>Yes</td>\n",
              "      <td>Yes</td>\n",
              "      <td>Yes</td>\n",
              "      <td>Yes</td>\n",
              "      <td>Yes</td>\n",
              "      <td>No</td>\n",
              "      <td>No</td>\n",
              "      <td>Yes</td>\n",
              "      <td>Yes</td>\n",
              "      <td>Yes</td>\n",
              "      <td>Yes</td>\n",
              "      <td>No</td>\n",
              "      <td>No</td>\n",
              "      <td>No</td>\n",
              "      <td>Positive</td>\n",
              "    </tr>\n",
              "    <tr>\n",
              "      <th>517</th>\n",
              "      <td>58</td>\n",
              "      <td>Female</td>\n",
              "      <td>Yes</td>\n",
              "      <td>Yes</td>\n",
              "      <td>Yes</td>\n",
              "      <td>Yes</td>\n",
              "      <td>Yes</td>\n",
              "      <td>No</td>\n",
              "      <td>Yes</td>\n",
              "      <td>No</td>\n",
              "      <td>No</td>\n",
              "      <td>No</td>\n",
              "      <td>Yes</td>\n",
              "      <td>Yes</td>\n",
              "      <td>No</td>\n",
              "      <td>Yes</td>\n",
              "      <td>Positive</td>\n",
              "    </tr>\n",
              "    <tr>\n",
              "      <th>518</th>\n",
              "      <td>32</td>\n",
              "      <td>Female</td>\n",
              "      <td>No</td>\n",
              "      <td>No</td>\n",
              "      <td>No</td>\n",
              "      <td>Yes</td>\n",
              "      <td>No</td>\n",
              "      <td>No</td>\n",
              "      <td>Yes</td>\n",
              "      <td>Yes</td>\n",
              "      <td>No</td>\n",
              "      <td>Yes</td>\n",
              "      <td>No</td>\n",
              "      <td>No</td>\n",
              "      <td>Yes</td>\n",
              "      <td>No</td>\n",
              "      <td>Negative</td>\n",
              "    </tr>\n",
              "    <tr>\n",
              "      <th>519</th>\n",
              "      <td>42</td>\n",
              "      <td>Male</td>\n",
              "      <td>No</td>\n",
              "      <td>No</td>\n",
              "      <td>No</td>\n",
              "      <td>No</td>\n",
              "      <td>No</td>\n",
              "      <td>No</td>\n",
              "      <td>No</td>\n",
              "      <td>No</td>\n",
              "      <td>No</td>\n",
              "      <td>No</td>\n",
              "      <td>No</td>\n",
              "      <td>No</td>\n",
              "      <td>No</td>\n",
              "      <td>No</td>\n",
              "      <td>Negative</td>\n",
              "    </tr>\n",
              "  </tbody>\n",
              "</table>\n",
              "<p>520 rows × 17 columns</p>\n",
              "</div>\n",
              "    <div class=\"colab-df-buttons\">\n",
              "\n",
              "  <div class=\"colab-df-container\">\n",
              "    <button class=\"colab-df-convert\" onclick=\"convertToInteractive('df-39b35481-fffa-4f63-a697-9a6abd5009e0')\"\n",
              "            title=\"Convert this dataframe to an interactive table.\"\n",
              "            style=\"display:none;\">\n",
              "\n",
              "  <svg xmlns=\"http://www.w3.org/2000/svg\" height=\"24px\" viewBox=\"0 -960 960 960\">\n",
              "    <path d=\"M120-120v-720h720v720H120Zm60-500h600v-160H180v160Zm220 220h160v-160H400v160Zm0 220h160v-160H400v160ZM180-400h160v-160H180v160Zm440 0h160v-160H620v160ZM180-180h160v-160H180v160Zm440 0h160v-160H620v160Z\"/>\n",
              "  </svg>\n",
              "    </button>\n",
              "\n",
              "  <style>\n",
              "    .colab-df-container {\n",
              "      display:flex;\n",
              "      gap: 12px;\n",
              "    }\n",
              "\n",
              "    .colab-df-convert {\n",
              "      background-color: #E8F0FE;\n",
              "      border: none;\n",
              "      border-radius: 50%;\n",
              "      cursor: pointer;\n",
              "      display: none;\n",
              "      fill: #1967D2;\n",
              "      height: 32px;\n",
              "      padding: 0 0 0 0;\n",
              "      width: 32px;\n",
              "    }\n",
              "\n",
              "    .colab-df-convert:hover {\n",
              "      background-color: #E2EBFA;\n",
              "      box-shadow: 0px 1px 2px rgba(60, 64, 67, 0.3), 0px 1px 3px 1px rgba(60, 64, 67, 0.15);\n",
              "      fill: #174EA6;\n",
              "    }\n",
              "\n",
              "    .colab-df-buttons div {\n",
              "      margin-bottom: 4px;\n",
              "    }\n",
              "\n",
              "    [theme=dark] .colab-df-convert {\n",
              "      background-color: #3B4455;\n",
              "      fill: #D2E3FC;\n",
              "    }\n",
              "\n",
              "    [theme=dark] .colab-df-convert:hover {\n",
              "      background-color: #434B5C;\n",
              "      box-shadow: 0px 1px 3px 1px rgba(0, 0, 0, 0.15);\n",
              "      filter: drop-shadow(0px 1px 2px rgba(0, 0, 0, 0.3));\n",
              "      fill: #FFFFFF;\n",
              "    }\n",
              "  </style>\n",
              "\n",
              "    <script>\n",
              "      const buttonEl =\n",
              "        document.querySelector('#df-39b35481-fffa-4f63-a697-9a6abd5009e0 button.colab-df-convert');\n",
              "      buttonEl.style.display =\n",
              "        google.colab.kernel.accessAllowed ? 'block' : 'none';\n",
              "\n",
              "      async function convertToInteractive(key) {\n",
              "        const element = document.querySelector('#df-39b35481-fffa-4f63-a697-9a6abd5009e0');\n",
              "        const dataTable =\n",
              "          await google.colab.kernel.invokeFunction('convertToInteractive',\n",
              "                                                    [key], {});\n",
              "        if (!dataTable) return;\n",
              "\n",
              "        const docLinkHtml = 'Like what you see? Visit the ' +\n",
              "          '<a target=\"_blank\" href=https://colab.research.google.com/notebooks/data_table.ipynb>data table notebook</a>'\n",
              "          + ' to learn more about interactive tables.';\n",
              "        element.innerHTML = '';\n",
              "        dataTable['output_type'] = 'display_data';\n",
              "        await google.colab.output.renderOutput(dataTable, element);\n",
              "        const docLink = document.createElement('div');\n",
              "        docLink.innerHTML = docLinkHtml;\n",
              "        element.appendChild(docLink);\n",
              "      }\n",
              "    </script>\n",
              "  </div>\n",
              "\n",
              "\n",
              "<div id=\"df-ddaf11c9-ba6d-42b7-a41e-742497d2e7e3\">\n",
              "  <button class=\"colab-df-quickchart\" onclick=\"quickchart('df-ddaf11c9-ba6d-42b7-a41e-742497d2e7e3')\"\n",
              "            title=\"Suggest charts\"\n",
              "            style=\"display:none;\">\n",
              "\n",
              "<svg xmlns=\"http://www.w3.org/2000/svg\" height=\"24px\"viewBox=\"0 0 24 24\"\n",
              "     width=\"24px\">\n",
              "    <g>\n",
              "        <path d=\"M19 3H5c-1.1 0-2 .9-2 2v14c0 1.1.9 2 2 2h14c1.1 0 2-.9 2-2V5c0-1.1-.9-2-2-2zM9 17H7v-7h2v7zm4 0h-2V7h2v10zm4 0h-2v-4h2v4z\"/>\n",
              "    </g>\n",
              "</svg>\n",
              "  </button>\n",
              "\n",
              "<style>\n",
              "  .colab-df-quickchart {\n",
              "      --bg-color: #E8F0FE;\n",
              "      --fill-color: #1967D2;\n",
              "      --hover-bg-color: #E2EBFA;\n",
              "      --hover-fill-color: #174EA6;\n",
              "      --disabled-fill-color: #AAA;\n",
              "      --disabled-bg-color: #DDD;\n",
              "  }\n",
              "\n",
              "  [theme=dark] .colab-df-quickchart {\n",
              "      --bg-color: #3B4455;\n",
              "      --fill-color: #D2E3FC;\n",
              "      --hover-bg-color: #434B5C;\n",
              "      --hover-fill-color: #FFFFFF;\n",
              "      --disabled-bg-color: #3B4455;\n",
              "      --disabled-fill-color: #666;\n",
              "  }\n",
              "\n",
              "  .colab-df-quickchart {\n",
              "    background-color: var(--bg-color);\n",
              "    border: none;\n",
              "    border-radius: 50%;\n",
              "    cursor: pointer;\n",
              "    display: none;\n",
              "    fill: var(--fill-color);\n",
              "    height: 32px;\n",
              "    padding: 0;\n",
              "    width: 32px;\n",
              "  }\n",
              "\n",
              "  .colab-df-quickchart:hover {\n",
              "    background-color: var(--hover-bg-color);\n",
              "    box-shadow: 0 1px 2px rgba(60, 64, 67, 0.3), 0 1px 3px 1px rgba(60, 64, 67, 0.15);\n",
              "    fill: var(--button-hover-fill-color);\n",
              "  }\n",
              "\n",
              "  .colab-df-quickchart-complete:disabled,\n",
              "  .colab-df-quickchart-complete:disabled:hover {\n",
              "    background-color: var(--disabled-bg-color);\n",
              "    fill: var(--disabled-fill-color);\n",
              "    box-shadow: none;\n",
              "  }\n",
              "\n",
              "  .colab-df-spinner {\n",
              "    border: 2px solid var(--fill-color);\n",
              "    border-color: transparent;\n",
              "    border-bottom-color: var(--fill-color);\n",
              "    animation:\n",
              "      spin 1s steps(1) infinite;\n",
              "  }\n",
              "\n",
              "  @keyframes spin {\n",
              "    0% {\n",
              "      border-color: transparent;\n",
              "      border-bottom-color: var(--fill-color);\n",
              "      border-left-color: var(--fill-color);\n",
              "    }\n",
              "    20% {\n",
              "      border-color: transparent;\n",
              "      border-left-color: var(--fill-color);\n",
              "      border-top-color: var(--fill-color);\n",
              "    }\n",
              "    30% {\n",
              "      border-color: transparent;\n",
              "      border-left-color: var(--fill-color);\n",
              "      border-top-color: var(--fill-color);\n",
              "      border-right-color: var(--fill-color);\n",
              "    }\n",
              "    40% {\n",
              "      border-color: transparent;\n",
              "      border-right-color: var(--fill-color);\n",
              "      border-top-color: var(--fill-color);\n",
              "    }\n",
              "    60% {\n",
              "      border-color: transparent;\n",
              "      border-right-color: var(--fill-color);\n",
              "    }\n",
              "    80% {\n",
              "      border-color: transparent;\n",
              "      border-right-color: var(--fill-color);\n",
              "      border-bottom-color: var(--fill-color);\n",
              "    }\n",
              "    90% {\n",
              "      border-color: transparent;\n",
              "      border-bottom-color: var(--fill-color);\n",
              "    }\n",
              "  }\n",
              "</style>\n",
              "\n",
              "  <script>\n",
              "    async function quickchart(key) {\n",
              "      const quickchartButtonEl =\n",
              "        document.querySelector('#' + key + ' button');\n",
              "      quickchartButtonEl.disabled = true;  // To prevent multiple clicks.\n",
              "      quickchartButtonEl.classList.add('colab-df-spinner');\n",
              "      try {\n",
              "        const charts = await google.colab.kernel.invokeFunction(\n",
              "            'suggestCharts', [key], {});\n",
              "      } catch (error) {\n",
              "        console.error('Error during call to suggestCharts:', error);\n",
              "      }\n",
              "      quickchartButtonEl.classList.remove('colab-df-spinner');\n",
              "      quickchartButtonEl.classList.add('colab-df-quickchart-complete');\n",
              "    }\n",
              "    (() => {\n",
              "      let quickchartButtonEl =\n",
              "        document.querySelector('#df-ddaf11c9-ba6d-42b7-a41e-742497d2e7e3 button');\n",
              "      quickchartButtonEl.style.display =\n",
              "        google.colab.kernel.accessAllowed ? 'block' : 'none';\n",
              "    })();\n",
              "  </script>\n",
              "</div>\n",
              "    </div>\n",
              "  </div>\n"
            ]
          },
          "metadata": {},
          "execution_count": 2
        }
      ],
      "source": [
        "df = pd.read_csv(\"diabetes_data_upload.csv\")\n",
        "df"
      ]
    },
    {
      "cell_type": "markdown",
      "id": "247aa503",
      "metadata": {
        "id": "247aa503"
      },
      "source": [
        "## ANALYSE DES DONNEES"
      ]
    },
    {
      "cell_type": "code",
      "execution_count": null,
      "id": "51501b48",
      "metadata": {
        "colab": {
          "base_uri": "https://localhost:8080/"
        },
        "id": "51501b48",
        "outputId": "426cb144-f7b4-4794-d32e-7869e019683a"
      },
      "outputs": [
        {
          "output_type": "execute_result",
          "data": {
            "text/plain": [
              "(520, 17)"
            ]
          },
          "metadata": {},
          "execution_count": 3
        }
      ],
      "source": [
        "df.shape"
      ]
    },
    {
      "cell_type": "code",
      "execution_count": null,
      "id": "45b7d707",
      "metadata": {
        "scrolled": true,
        "colab": {
          "base_uri": "https://localhost:8080/"
        },
        "id": "45b7d707",
        "outputId": "8bce8ae9-9aad-415b-9f3f-30eb585b36f7"
      },
      "outputs": [
        {
          "output_type": "stream",
          "name": "stdout",
          "text": [
            "   Age Gender Polyuria Polydipsia sudden weight loss weakness Polyphagia  \\\n",
            "0   40   Male       No        Yes                 No      Yes         No   \n",
            "1   58   Male       No         No                 No      Yes         No   \n",
            "2   41   Male      Yes         No                 No      Yes        Yes   \n",
            "3   45   Male       No         No                Yes      Yes        Yes   \n",
            "4   60   Male      Yes        Yes                Yes      Yes        Yes   \n",
            "\n",
            "  Genital thrush visual blurring Itching Irritability delayed healing  \\\n",
            "0             No              No     Yes           No             Yes   \n",
            "1             No             Yes      No           No              No   \n",
            "2             No              No     Yes           No             Yes   \n",
            "3            Yes              No     Yes           No             Yes   \n",
            "4             No             Yes     Yes          Yes             Yes   \n",
            "\n",
            "  partial paresis muscle stiffness Alopecia Obesity     class  \n",
            "0              No              Yes      Yes     Yes  Positive  \n",
            "1             Yes               No      Yes      No  Positive  \n",
            "2              No              Yes      Yes      No  Positive  \n",
            "3              No               No       No      No  Positive  \n",
            "4             Yes              Yes      Yes     Yes  Positive  \n"
          ]
        }
      ],
      "source": [
        "# Affichage des premières lignes du DataFrame pour vérification\n",
        "print(df.head())"
      ]
    },
    {
      "cell_type": "markdown",
      "id": "f3266486",
      "metadata": {
        "id": "f3266486"
      },
      "source": [
        "### Description des variables"
      ]
    },
    {
      "cell_type": "markdown",
      "id": "8e2340c9",
      "metadata": {
        "id": "8e2340c9"
      },
      "source": [
        "1. **Âge (Age):**\n",
        "   - Type : Numérique\n",
        "   - Plage : 1-20 à 65 ans\n",
        "   - Description : La variable représente l'âge du patient.\n",
        "\n",
        "2. **Sexe (Sex):**\n",
        "   - Type : Catégorique\n",
        "   - Catégories :\n",
        "       - 1: Homme\n",
        "       - 2: Femme\n",
        "   - Description : La variable représente le sexe du patient.\n",
        "\n",
        "3. **Polyurie:**\n",
        "   - Type : Catégorique\n",
        "   - Catégories :\n",
        "       - 1: Oui\n",
        "       - 2: Non\n",
        "   - Description : La polyurie se réfère à une miction excessive, c'est-à-dire une production d'urine anormalement élevée.\n",
        "\n",
        "4. **Polydipsie:**\n",
        "   - Type : Catégorique\n",
        "   - Catégories :\n",
        "       - 1: Oui\n",
        "       - 2: Non\n",
        "   - Description : La polydipsie se réfère à une soif excessive.\n",
        "\n",
        "5. **Perte de poids soudaine:**\n",
        "   - Type : Catégorique\n",
        "   - Catégories :\n",
        "       - 1: Oui\n",
        "       - 2: Non\n",
        "   - Description : Indique si le patient a connu une perte de poids soudaine.\n",
        "\n",
        "6. **Faiblesse:**\n",
        "   - Type : Catégorique\n",
        "   - Catégories :\n",
        "       - 1: Oui\n",
        "       - 2: Non\n",
        "   - Description : Indique si le patient présente une faiblesse.\n",
        "\n",
        "7. **Polyphagie:**\n",
        "   - Type : Catégorique\n",
        "   - Catégories :\n",
        "       - 1: Oui\n",
        "       - 2: Non\n",
        "   - Description : La polyphagie se réfère à une augmentation anormale de l'appétit.\n",
        "\n",
        "8. **Muguet génital:**\n",
        "   - Type : Catégorique\n",
        "   - Catégories :\n",
        "       - 1: Oui\n",
        "       - 2: Non\n",
        "   - Description : Indique la présence de muguet génital, une infection fongique.\n",
        "\n",
        "9. **Flou visuel:**\n",
        "   - Type : Catégorique\n",
        "   - Catégories :\n",
        "       - 1: Oui\n",
        "       - 2: Non\n",
        "   - Description : Indique si le patient éprouve un flou visuel.\n",
        "\n",
        "10. **Démangeaisons:**\n",
        "   - Type : Catégorique\n",
        "   - Catégories :\n",
        "       - 1: Oui\n",
        "       - 2: Non\n",
        "   - Description : Indique si le patient ressent des démangeaisons.\n",
        "\n",
        "11. **Irritabilité:**\n",
        "   - Type : Catégorique\n",
        "   - Catégories :\n",
        "       - 1: Oui\n",
        "       - 2: Non\n",
        "   - Description : Indique si le patient est irritable.\n",
        "\n",
        "12. **Guérison retardée:**\n",
        "   - Type : Catégorique\n",
        "   - Catégories :\n",
        "       - 1: Oui\n",
        "       - 2: Non\n",
        "   - Description : Indique si le patient présente une guérison retardée des blessures.\n",
        "\n",
        "13. **Parésie partielle:**\n",
        "   - Type : Catégorique\n",
        "   - Catégories :\n",
        "       - 1: Oui\n",
        "       - 2: Non\n",
        "   - Description : Indique si le patient présente une paralysie partielle.\n",
        "\n",
        "14. **Courbatures musculaires:**\n",
        "   - Type : Catégorique\n",
        "   - Catégories :\n",
        "       - 1: Oui\n",
        "       - 2: Non\n",
        "   - Description : Indique si le patient ressent des courbatures musculaires.\n",
        "\n",
        "15. **Alopécie:**\n",
        "   - Type : Catégorique\n",
        "   - Catégories :\n",
        "       - 1: Oui\n",
        "       - 2: Non\n",
        "   - Description : Indique si le patient présente une perte de cheveux.\n",
        "\n",
        "16. **Obésité:**\n",
        "   - Type : Catégorique\n",
        "   - Catégories :\n",
        "       - 1: Oui\n",
        "       - 2: Non\n",
        "   - Description : Indique si le patient est obèse.\n",
        "\n",
        "17. **Classe (Class):**\n",
        "   - Type : Catégorique\n",
        "   - Catégories :\n",
        "       - 1: Positive\n",
        "       - 2: Négative\n",
        "   - Description : La variable cible, indiquant si le patient a le diabète (Positive) ou non (Négative)."
      ]
    },
    {
      "cell_type": "markdown",
      "id": "27642350",
      "metadata": {
        "id": "27642350"
      },
      "source": [
        "### Suppression des variables \"Age\" et \"Gender\""
      ]
    },
    {
      "cell_type": "code",
      "execution_count": null,
      "id": "6bd531e3",
      "metadata": {
        "scrolled": true,
        "colab": {
          "base_uri": "https://localhost:8080/"
        },
        "id": "6bd531e3",
        "outputId": "27e75b1f-3637-495a-aa34-e14ac7f3f249"
      },
      "outputs": [
        {
          "output_type": "stream",
          "name": "stdout",
          "text": [
            "  Polyuria Polydipsia sudden weight loss weakness Polyphagia Genital thrush  \\\n",
            "0       No        Yes                 No      Yes         No             No   \n",
            "1       No         No                 No      Yes         No             No   \n",
            "2      Yes         No                 No      Yes        Yes             No   \n",
            "3       No         No                Yes      Yes        Yes            Yes   \n",
            "4      Yes        Yes                Yes      Yes        Yes             No   \n",
            "\n",
            "  visual blurring Itching Irritability delayed healing partial paresis  \\\n",
            "0              No     Yes           No             Yes              No   \n",
            "1             Yes      No           No              No             Yes   \n",
            "2              No     Yes           No             Yes              No   \n",
            "3              No     Yes           No             Yes              No   \n",
            "4             Yes     Yes          Yes             Yes             Yes   \n",
            "\n",
            "  muscle stiffness Alopecia Obesity     class  \n",
            "0              Yes      Yes     Yes  Positive  \n",
            "1               No      Yes      No  Positive  \n",
            "2              Yes      Yes      No  Positive  \n",
            "3               No       No      No  Positive  \n",
            "4              Yes      Yes     Yes  Positive  \n"
          ]
        }
      ],
      "source": [
        "# Supprimer les variables \"Age\" et \"Sexe\"\n",
        "df = df.drop([\"Age\", \"Gender\"], axis=1)\n",
        "\n",
        "# Afficher le DataFrame après la suppression\n",
        "print(df.head())"
      ]
    },
    {
      "cell_type": "code",
      "execution_count": null,
      "id": "5ababb9d",
      "metadata": {
        "scrolled": true,
        "colab": {
          "base_uri": "https://localhost:8080/",
          "height": 478
        },
        "id": "5ababb9d",
        "outputId": "0304419b-62e8-4339-bfff-79b6dc229fc3"
      },
      "outputs": [
        {
          "output_type": "execute_result",
          "data": {
            "text/plain": [
              "    Polyuria Polydipsia sudden weight loss weakness Polyphagia Genital thrush  \\\n",
              "0         No        Yes                 No      Yes         No             No   \n",
              "1         No         No                 No      Yes         No             No   \n",
              "2        Yes         No                 No      Yes        Yes             No   \n",
              "3         No         No                Yes      Yes        Yes            Yes   \n",
              "4        Yes        Yes                Yes      Yes        Yes             No   \n",
              "..       ...        ...                ...      ...        ...            ...   \n",
              "515      Yes        Yes                Yes       No        Yes             No   \n",
              "516      Yes        Yes                Yes      Yes        Yes             No   \n",
              "517      Yes        Yes                Yes      Yes        Yes             No   \n",
              "518       No         No                 No      Yes         No             No   \n",
              "519       No         No                 No       No         No             No   \n",
              "\n",
              "    visual blurring Itching Irritability delayed healing partial paresis  \\\n",
              "0                No     Yes           No             Yes              No   \n",
              "1               Yes      No           No              No             Yes   \n",
              "2                No     Yes           No             Yes              No   \n",
              "3                No     Yes           No             Yes              No   \n",
              "4               Yes     Yes          Yes             Yes             Yes   \n",
              "..              ...     ...          ...             ...             ...   \n",
              "515              No     Yes           No             Yes             Yes   \n",
              "516              No     Yes          Yes             Yes             Yes   \n",
              "517             Yes      No           No              No             Yes   \n",
              "518             Yes     Yes           No             Yes              No   \n",
              "519              No      No           No              No              No   \n",
              "\n",
              "    muscle stiffness Alopecia Obesity     class  \n",
              "0                Yes      Yes     Yes  Positive  \n",
              "1                 No      Yes      No  Positive  \n",
              "2                Yes      Yes      No  Positive  \n",
              "3                 No       No      No  Positive  \n",
              "4                Yes      Yes     Yes  Positive  \n",
              "..               ...      ...     ...       ...  \n",
              "515               No       No      No  Positive  \n",
              "516               No       No      No  Positive  \n",
              "517              Yes       No     Yes  Positive  \n",
              "518               No      Yes      No  Negative  \n",
              "519               No       No      No  Negative  \n",
              "\n",
              "[520 rows x 15 columns]"
            ],
            "text/html": [
              "\n",
              "  <div id=\"df-50424aad-77bd-4678-8037-5802a459b8ce\" class=\"colab-df-container\">\n",
              "    <div>\n",
              "<style scoped>\n",
              "    .dataframe tbody tr th:only-of-type {\n",
              "        vertical-align: middle;\n",
              "    }\n",
              "\n",
              "    .dataframe tbody tr th {\n",
              "        vertical-align: top;\n",
              "    }\n",
              "\n",
              "    .dataframe thead th {\n",
              "        text-align: right;\n",
              "    }\n",
              "</style>\n",
              "<table border=\"1\" class=\"dataframe\">\n",
              "  <thead>\n",
              "    <tr style=\"text-align: right;\">\n",
              "      <th></th>\n",
              "      <th>Polyuria</th>\n",
              "      <th>Polydipsia</th>\n",
              "      <th>sudden weight loss</th>\n",
              "      <th>weakness</th>\n",
              "      <th>Polyphagia</th>\n",
              "      <th>Genital thrush</th>\n",
              "      <th>visual blurring</th>\n",
              "      <th>Itching</th>\n",
              "      <th>Irritability</th>\n",
              "      <th>delayed healing</th>\n",
              "      <th>partial paresis</th>\n",
              "      <th>muscle stiffness</th>\n",
              "      <th>Alopecia</th>\n",
              "      <th>Obesity</th>\n",
              "      <th>class</th>\n",
              "    </tr>\n",
              "  </thead>\n",
              "  <tbody>\n",
              "    <tr>\n",
              "      <th>0</th>\n",
              "      <td>No</td>\n",
              "      <td>Yes</td>\n",
              "      <td>No</td>\n",
              "      <td>Yes</td>\n",
              "      <td>No</td>\n",
              "      <td>No</td>\n",
              "      <td>No</td>\n",
              "      <td>Yes</td>\n",
              "      <td>No</td>\n",
              "      <td>Yes</td>\n",
              "      <td>No</td>\n",
              "      <td>Yes</td>\n",
              "      <td>Yes</td>\n",
              "      <td>Yes</td>\n",
              "      <td>Positive</td>\n",
              "    </tr>\n",
              "    <tr>\n",
              "      <th>1</th>\n",
              "      <td>No</td>\n",
              "      <td>No</td>\n",
              "      <td>No</td>\n",
              "      <td>Yes</td>\n",
              "      <td>No</td>\n",
              "      <td>No</td>\n",
              "      <td>Yes</td>\n",
              "      <td>No</td>\n",
              "      <td>No</td>\n",
              "      <td>No</td>\n",
              "      <td>Yes</td>\n",
              "      <td>No</td>\n",
              "      <td>Yes</td>\n",
              "      <td>No</td>\n",
              "      <td>Positive</td>\n",
              "    </tr>\n",
              "    <tr>\n",
              "      <th>2</th>\n",
              "      <td>Yes</td>\n",
              "      <td>No</td>\n",
              "      <td>No</td>\n",
              "      <td>Yes</td>\n",
              "      <td>Yes</td>\n",
              "      <td>No</td>\n",
              "      <td>No</td>\n",
              "      <td>Yes</td>\n",
              "      <td>No</td>\n",
              "      <td>Yes</td>\n",
              "      <td>No</td>\n",
              "      <td>Yes</td>\n",
              "      <td>Yes</td>\n",
              "      <td>No</td>\n",
              "      <td>Positive</td>\n",
              "    </tr>\n",
              "    <tr>\n",
              "      <th>3</th>\n",
              "      <td>No</td>\n",
              "      <td>No</td>\n",
              "      <td>Yes</td>\n",
              "      <td>Yes</td>\n",
              "      <td>Yes</td>\n",
              "      <td>Yes</td>\n",
              "      <td>No</td>\n",
              "      <td>Yes</td>\n",
              "      <td>No</td>\n",
              "      <td>Yes</td>\n",
              "      <td>No</td>\n",
              "      <td>No</td>\n",
              "      <td>No</td>\n",
              "      <td>No</td>\n",
              "      <td>Positive</td>\n",
              "    </tr>\n",
              "    <tr>\n",
              "      <th>4</th>\n",
              "      <td>Yes</td>\n",
              "      <td>Yes</td>\n",
              "      <td>Yes</td>\n",
              "      <td>Yes</td>\n",
              "      <td>Yes</td>\n",
              "      <td>No</td>\n",
              "      <td>Yes</td>\n",
              "      <td>Yes</td>\n",
              "      <td>Yes</td>\n",
              "      <td>Yes</td>\n",
              "      <td>Yes</td>\n",
              "      <td>Yes</td>\n",
              "      <td>Yes</td>\n",
              "      <td>Yes</td>\n",
              "      <td>Positive</td>\n",
              "    </tr>\n",
              "    <tr>\n",
              "      <th>...</th>\n",
              "      <td>...</td>\n",
              "      <td>...</td>\n",
              "      <td>...</td>\n",
              "      <td>...</td>\n",
              "      <td>...</td>\n",
              "      <td>...</td>\n",
              "      <td>...</td>\n",
              "      <td>...</td>\n",
              "      <td>...</td>\n",
              "      <td>...</td>\n",
              "      <td>...</td>\n",
              "      <td>...</td>\n",
              "      <td>...</td>\n",
              "      <td>...</td>\n",
              "      <td>...</td>\n",
              "    </tr>\n",
              "    <tr>\n",
              "      <th>515</th>\n",
              "      <td>Yes</td>\n",
              "      <td>Yes</td>\n",
              "      <td>Yes</td>\n",
              "      <td>No</td>\n",
              "      <td>Yes</td>\n",
              "      <td>No</td>\n",
              "      <td>No</td>\n",
              "      <td>Yes</td>\n",
              "      <td>No</td>\n",
              "      <td>Yes</td>\n",
              "      <td>Yes</td>\n",
              "      <td>No</td>\n",
              "      <td>No</td>\n",
              "      <td>No</td>\n",
              "      <td>Positive</td>\n",
              "    </tr>\n",
              "    <tr>\n",
              "      <th>516</th>\n",
              "      <td>Yes</td>\n",
              "      <td>Yes</td>\n",
              "      <td>Yes</td>\n",
              "      <td>Yes</td>\n",
              "      <td>Yes</td>\n",
              "      <td>No</td>\n",
              "      <td>No</td>\n",
              "      <td>Yes</td>\n",
              "      <td>Yes</td>\n",
              "      <td>Yes</td>\n",
              "      <td>Yes</td>\n",
              "      <td>No</td>\n",
              "      <td>No</td>\n",
              "      <td>No</td>\n",
              "      <td>Positive</td>\n",
              "    </tr>\n",
              "    <tr>\n",
              "      <th>517</th>\n",
              "      <td>Yes</td>\n",
              "      <td>Yes</td>\n",
              "      <td>Yes</td>\n",
              "      <td>Yes</td>\n",
              "      <td>Yes</td>\n",
              "      <td>No</td>\n",
              "      <td>Yes</td>\n",
              "      <td>No</td>\n",
              "      <td>No</td>\n",
              "      <td>No</td>\n",
              "      <td>Yes</td>\n",
              "      <td>Yes</td>\n",
              "      <td>No</td>\n",
              "      <td>Yes</td>\n",
              "      <td>Positive</td>\n",
              "    </tr>\n",
              "    <tr>\n",
              "      <th>518</th>\n",
              "      <td>No</td>\n",
              "      <td>No</td>\n",
              "      <td>No</td>\n",
              "      <td>Yes</td>\n",
              "      <td>No</td>\n",
              "      <td>No</td>\n",
              "      <td>Yes</td>\n",
              "      <td>Yes</td>\n",
              "      <td>No</td>\n",
              "      <td>Yes</td>\n",
              "      <td>No</td>\n",
              "      <td>No</td>\n",
              "      <td>Yes</td>\n",
              "      <td>No</td>\n",
              "      <td>Negative</td>\n",
              "    </tr>\n",
              "    <tr>\n",
              "      <th>519</th>\n",
              "      <td>No</td>\n",
              "      <td>No</td>\n",
              "      <td>No</td>\n",
              "      <td>No</td>\n",
              "      <td>No</td>\n",
              "      <td>No</td>\n",
              "      <td>No</td>\n",
              "      <td>No</td>\n",
              "      <td>No</td>\n",
              "      <td>No</td>\n",
              "      <td>No</td>\n",
              "      <td>No</td>\n",
              "      <td>No</td>\n",
              "      <td>No</td>\n",
              "      <td>Negative</td>\n",
              "    </tr>\n",
              "  </tbody>\n",
              "</table>\n",
              "<p>520 rows × 15 columns</p>\n",
              "</div>\n",
              "    <div class=\"colab-df-buttons\">\n",
              "\n",
              "  <div class=\"colab-df-container\">\n",
              "    <button class=\"colab-df-convert\" onclick=\"convertToInteractive('df-50424aad-77bd-4678-8037-5802a459b8ce')\"\n",
              "            title=\"Convert this dataframe to an interactive table.\"\n",
              "            style=\"display:none;\">\n",
              "\n",
              "  <svg xmlns=\"http://www.w3.org/2000/svg\" height=\"24px\" viewBox=\"0 -960 960 960\">\n",
              "    <path d=\"M120-120v-720h720v720H120Zm60-500h600v-160H180v160Zm220 220h160v-160H400v160Zm0 220h160v-160H400v160ZM180-400h160v-160H180v160Zm440 0h160v-160H620v160ZM180-180h160v-160H180v160Zm440 0h160v-160H620v160Z\"/>\n",
              "  </svg>\n",
              "    </button>\n",
              "\n",
              "  <style>\n",
              "    .colab-df-container {\n",
              "      display:flex;\n",
              "      gap: 12px;\n",
              "    }\n",
              "\n",
              "    .colab-df-convert {\n",
              "      background-color: #E8F0FE;\n",
              "      border: none;\n",
              "      border-radius: 50%;\n",
              "      cursor: pointer;\n",
              "      display: none;\n",
              "      fill: #1967D2;\n",
              "      height: 32px;\n",
              "      padding: 0 0 0 0;\n",
              "      width: 32px;\n",
              "    }\n",
              "\n",
              "    .colab-df-convert:hover {\n",
              "      background-color: #E2EBFA;\n",
              "      box-shadow: 0px 1px 2px rgba(60, 64, 67, 0.3), 0px 1px 3px 1px rgba(60, 64, 67, 0.15);\n",
              "      fill: #174EA6;\n",
              "    }\n",
              "\n",
              "    .colab-df-buttons div {\n",
              "      margin-bottom: 4px;\n",
              "    }\n",
              "\n",
              "    [theme=dark] .colab-df-convert {\n",
              "      background-color: #3B4455;\n",
              "      fill: #D2E3FC;\n",
              "    }\n",
              "\n",
              "    [theme=dark] .colab-df-convert:hover {\n",
              "      background-color: #434B5C;\n",
              "      box-shadow: 0px 1px 3px 1px rgba(0, 0, 0, 0.15);\n",
              "      filter: drop-shadow(0px 1px 2px rgba(0, 0, 0, 0.3));\n",
              "      fill: #FFFFFF;\n",
              "    }\n",
              "  </style>\n",
              "\n",
              "    <script>\n",
              "      const buttonEl =\n",
              "        document.querySelector('#df-50424aad-77bd-4678-8037-5802a459b8ce button.colab-df-convert');\n",
              "      buttonEl.style.display =\n",
              "        google.colab.kernel.accessAllowed ? 'block' : 'none';\n",
              "\n",
              "      async function convertToInteractive(key) {\n",
              "        const element = document.querySelector('#df-50424aad-77bd-4678-8037-5802a459b8ce');\n",
              "        const dataTable =\n",
              "          await google.colab.kernel.invokeFunction('convertToInteractive',\n",
              "                                                    [key], {});\n",
              "        if (!dataTable) return;\n",
              "\n",
              "        const docLinkHtml = 'Like what you see? Visit the ' +\n",
              "          '<a target=\"_blank\" href=https://colab.research.google.com/notebooks/data_table.ipynb>data table notebook</a>'\n",
              "          + ' to learn more about interactive tables.';\n",
              "        element.innerHTML = '';\n",
              "        dataTable['output_type'] = 'display_data';\n",
              "        await google.colab.output.renderOutput(dataTable, element);\n",
              "        const docLink = document.createElement('div');\n",
              "        docLink.innerHTML = docLinkHtml;\n",
              "        element.appendChild(docLink);\n",
              "      }\n",
              "    </script>\n",
              "  </div>\n",
              "\n",
              "\n",
              "<div id=\"df-4cfdf8d6-0f53-448d-b2dc-db9a33905f0a\">\n",
              "  <button class=\"colab-df-quickchart\" onclick=\"quickchart('df-4cfdf8d6-0f53-448d-b2dc-db9a33905f0a')\"\n",
              "            title=\"Suggest charts\"\n",
              "            style=\"display:none;\">\n",
              "\n",
              "<svg xmlns=\"http://www.w3.org/2000/svg\" height=\"24px\"viewBox=\"0 0 24 24\"\n",
              "     width=\"24px\">\n",
              "    <g>\n",
              "        <path d=\"M19 3H5c-1.1 0-2 .9-2 2v14c0 1.1.9 2 2 2h14c1.1 0 2-.9 2-2V5c0-1.1-.9-2-2-2zM9 17H7v-7h2v7zm4 0h-2V7h2v10zm4 0h-2v-4h2v4z\"/>\n",
              "    </g>\n",
              "</svg>\n",
              "  </button>\n",
              "\n",
              "<style>\n",
              "  .colab-df-quickchart {\n",
              "      --bg-color: #E8F0FE;\n",
              "      --fill-color: #1967D2;\n",
              "      --hover-bg-color: #E2EBFA;\n",
              "      --hover-fill-color: #174EA6;\n",
              "      --disabled-fill-color: #AAA;\n",
              "      --disabled-bg-color: #DDD;\n",
              "  }\n",
              "\n",
              "  [theme=dark] .colab-df-quickchart {\n",
              "      --bg-color: #3B4455;\n",
              "      --fill-color: #D2E3FC;\n",
              "      --hover-bg-color: #434B5C;\n",
              "      --hover-fill-color: #FFFFFF;\n",
              "      --disabled-bg-color: #3B4455;\n",
              "      --disabled-fill-color: #666;\n",
              "  }\n",
              "\n",
              "  .colab-df-quickchart {\n",
              "    background-color: var(--bg-color);\n",
              "    border: none;\n",
              "    border-radius: 50%;\n",
              "    cursor: pointer;\n",
              "    display: none;\n",
              "    fill: var(--fill-color);\n",
              "    height: 32px;\n",
              "    padding: 0;\n",
              "    width: 32px;\n",
              "  }\n",
              "\n",
              "  .colab-df-quickchart:hover {\n",
              "    background-color: var(--hover-bg-color);\n",
              "    box-shadow: 0 1px 2px rgba(60, 64, 67, 0.3), 0 1px 3px 1px rgba(60, 64, 67, 0.15);\n",
              "    fill: var(--button-hover-fill-color);\n",
              "  }\n",
              "\n",
              "  .colab-df-quickchart-complete:disabled,\n",
              "  .colab-df-quickchart-complete:disabled:hover {\n",
              "    background-color: var(--disabled-bg-color);\n",
              "    fill: var(--disabled-fill-color);\n",
              "    box-shadow: none;\n",
              "  }\n",
              "\n",
              "  .colab-df-spinner {\n",
              "    border: 2px solid var(--fill-color);\n",
              "    border-color: transparent;\n",
              "    border-bottom-color: var(--fill-color);\n",
              "    animation:\n",
              "      spin 1s steps(1) infinite;\n",
              "  }\n",
              "\n",
              "  @keyframes spin {\n",
              "    0% {\n",
              "      border-color: transparent;\n",
              "      border-bottom-color: var(--fill-color);\n",
              "      border-left-color: var(--fill-color);\n",
              "    }\n",
              "    20% {\n",
              "      border-color: transparent;\n",
              "      border-left-color: var(--fill-color);\n",
              "      border-top-color: var(--fill-color);\n",
              "    }\n",
              "    30% {\n",
              "      border-color: transparent;\n",
              "      border-left-color: var(--fill-color);\n",
              "      border-top-color: var(--fill-color);\n",
              "      border-right-color: var(--fill-color);\n",
              "    }\n",
              "    40% {\n",
              "      border-color: transparent;\n",
              "      border-right-color: var(--fill-color);\n",
              "      border-top-color: var(--fill-color);\n",
              "    }\n",
              "    60% {\n",
              "      border-color: transparent;\n",
              "      border-right-color: var(--fill-color);\n",
              "    }\n",
              "    80% {\n",
              "      border-color: transparent;\n",
              "      border-right-color: var(--fill-color);\n",
              "      border-bottom-color: var(--fill-color);\n",
              "    }\n",
              "    90% {\n",
              "      border-color: transparent;\n",
              "      border-bottom-color: var(--fill-color);\n",
              "    }\n",
              "  }\n",
              "</style>\n",
              "\n",
              "  <script>\n",
              "    async function quickchart(key) {\n",
              "      const quickchartButtonEl =\n",
              "        document.querySelector('#' + key + ' button');\n",
              "      quickchartButtonEl.disabled = true;  // To prevent multiple clicks.\n",
              "      quickchartButtonEl.classList.add('colab-df-spinner');\n",
              "      try {\n",
              "        const charts = await google.colab.kernel.invokeFunction(\n",
              "            'suggestCharts', [key], {});\n",
              "      } catch (error) {\n",
              "        console.error('Error during call to suggestCharts:', error);\n",
              "      }\n",
              "      quickchartButtonEl.classList.remove('colab-df-spinner');\n",
              "      quickchartButtonEl.classList.add('colab-df-quickchart-complete');\n",
              "    }\n",
              "    (() => {\n",
              "      let quickchartButtonEl =\n",
              "        document.querySelector('#df-4cfdf8d6-0f53-448d-b2dc-db9a33905f0a button');\n",
              "      quickchartButtonEl.style.display =\n",
              "        google.colab.kernel.accessAllowed ? 'block' : 'none';\n",
              "    })();\n",
              "  </script>\n",
              "</div>\n",
              "    </div>\n",
              "  </div>\n"
            ]
          },
          "metadata": {},
          "execution_count": 6
        }
      ],
      "source": [
        "df"
      ]
    },
    {
      "cell_type": "markdown",
      "id": "da98c5f3",
      "metadata": {
        "id": "da98c5f3"
      },
      "source": [
        "### Remplacement des \"YES\" en 1 et des \"No\" en 0"
      ]
    },
    {
      "cell_type": "code",
      "execution_count": null,
      "id": "9bee3343",
      "metadata": {
        "colab": {
          "base_uri": "https://localhost:8080/"
        },
        "id": "9bee3343",
        "outputId": "9a467aaf-c9f4-4417-9d74-d8aebb39a38b"
      },
      "outputs": [
        {
          "output_type": "stream",
          "name": "stdout",
          "text": [
            "   Polyuria  Polydipsia  sudden weight loss  weakness  Polyphagia  \\\n",
            "0         0           1                   0         1           0   \n",
            "1         0           0                   0         1           0   \n",
            "2         1           0                   0         1           1   \n",
            "3         0           0                   1         1           1   \n",
            "4         1           1                   1         1           1   \n",
            "\n",
            "   Genital thrush  visual blurring  Itching  Irritability  delayed healing  \\\n",
            "0               0                0        1             0                1   \n",
            "1               0                1        0             0                0   \n",
            "2               0                0        1             0                1   \n",
            "3               1                0        1             0                1   \n",
            "4               0                1        1             1                1   \n",
            "\n",
            "   partial paresis  muscle stiffness  Alopecia  Obesity     class  \n",
            "0                0                 1         1        1  Positive  \n",
            "1                1                 0         1        0  Positive  \n",
            "2                0                 1         1        0  Positive  \n",
            "3                0                 0         0        0  Positive  \n",
            "4                1                 1         1        1  Positive  \n"
          ]
        }
      ],
      "source": [
        "# Remplacer 'Yes' par 1 et 'No' par 0 dans tout le DataFrame\n",
        "df.replace({'Yes': 1, 'No': 0}, inplace=True)\n",
        "\n",
        "# Afficher le DataFrame après la conversion\n",
        "print(df.head())"
      ]
    },
    {
      "cell_type": "code",
      "execution_count": null,
      "id": "88880568",
      "metadata": {
        "colab": {
          "base_uri": "https://localhost:8080/"
        },
        "id": "88880568",
        "outputId": "73eca6bb-2f26-441d-9a4d-9d74dfc0bdb4"
      },
      "outputs": [
        {
          "output_type": "execute_result",
          "data": {
            "text/plain": [
              "0      Positive\n",
              "1      Positive\n",
              "2      Positive\n",
              "3      Positive\n",
              "4      Positive\n",
              "         ...   \n",
              "515    Positive\n",
              "516    Positive\n",
              "517    Positive\n",
              "518    Negative\n",
              "519    Negative\n",
              "Name: class, Length: 520, dtype: object"
            ]
          },
          "metadata": {},
          "execution_count": 8
        }
      ],
      "source": [
        "df['class']"
      ]
    },
    {
      "cell_type": "code",
      "execution_count": null,
      "id": "004df307",
      "metadata": {
        "colab": {
          "base_uri": "https://localhost:8080/"
        },
        "id": "004df307",
        "outputId": "9e57cd2d-54fb-48b3-8d3c-f84e8abe01e6"
      },
      "outputs": [
        {
          "output_type": "stream",
          "name": "stdout",
          "text": [
            "   Polyuria  Polydipsia  sudden weight loss  weakness  Polyphagia  \\\n",
            "0         0           1                   0         1           0   \n",
            "1         0           0                   0         1           0   \n",
            "2         1           0                   0         1           1   \n",
            "3         0           0                   1         1           1   \n",
            "4         1           1                   1         1           1   \n",
            "\n",
            "   Genital thrush  visual blurring  Itching  Irritability  delayed healing  \\\n",
            "0               0                0        1             0                1   \n",
            "1               0                1        0             0                0   \n",
            "2               0                0        1             0                1   \n",
            "3               1                0        1             0                1   \n",
            "4               0                1        1             1                1   \n",
            "\n",
            "   partial paresis  muscle stiffness  Alopecia  Obesity  class  \n",
            "0                0                 1         1        1      1  \n",
            "1                1                 0         1        0      1  \n",
            "2                0                 1         1        0      1  \n",
            "3                0                 0         0        0      1  \n",
            "4                1                 1         1        1      1  \n"
          ]
        }
      ],
      "source": [
        "# Remplacer 'Positives' par 1 et 'Negatives' par 0 dans une colonne spécifique (par exemple, 'Classe')\n",
        "df['class'] = df['class'].replace({'Positive': 1, 'Negative': 0})\n",
        "\n",
        "# Afficher le DataFrame après la conversion\n",
        "print(df.head())"
      ]
    },
    {
      "cell_type": "markdown",
      "id": "a2a3b192",
      "metadata": {
        "id": "a2a3b192"
      },
      "source": [
        "### Vérifier le type de chaque variable"
      ]
    },
    {
      "cell_type": "code",
      "execution_count": null,
      "id": "c0031a44",
      "metadata": {
        "scrolled": true,
        "colab": {
          "base_uri": "https://localhost:8080/"
        },
        "id": "c0031a44",
        "outputId": "5b7d4bd9-3c92-4330-bd8f-695b395f792e"
      },
      "outputs": [
        {
          "output_type": "stream",
          "name": "stdout",
          "text": [
            "Polyuria              int64\n",
            "Polydipsia            int64\n",
            "sudden weight loss    int64\n",
            "weakness              int64\n",
            "Polyphagia            int64\n",
            "Genital thrush        int64\n",
            "visual blurring       int64\n",
            "Itching               int64\n",
            "Irritability          int64\n",
            "delayed healing       int64\n",
            "partial paresis       int64\n",
            "muscle stiffness      int64\n",
            "Alopecia              int64\n",
            "Obesity               int64\n",
            "class                 int64\n",
            "dtype: object\n"
          ]
        }
      ],
      "source": [
        "# Afficher le type de chaque colonne\n",
        "print(df.dtypes)"
      ]
    },
    {
      "cell_type": "markdown",
      "id": "98773a30",
      "metadata": {
        "id": "98773a30"
      },
      "source": [
        "### Conversion de toutes les variables en float"
      ]
    },
    {
      "cell_type": "code",
      "execution_count": null,
      "id": "20e099f0",
      "metadata": {
        "scrolled": true,
        "colab": {
          "base_uri": "https://localhost:8080/"
        },
        "id": "20e099f0",
        "outputId": "73b66be5-ec86-452a-e7d4-6f5f611ed555"
      },
      "outputs": [
        {
          "output_type": "stream",
          "name": "stdout",
          "text": [
            "Polyuria              int64\n",
            "Polydipsia            int64\n",
            "sudden weight loss    int64\n",
            "weakness              int64\n",
            "Polyphagia            int64\n",
            "Genital thrush        int64\n",
            "visual blurring       int64\n",
            "Itching               int64\n",
            "Irritability          int64\n",
            "delayed healing       int64\n",
            "partial paresis       int64\n",
            "muscle stiffness      int64\n",
            "Alopecia              int64\n",
            "Obesity               int64\n",
            "class                 int64\n",
            "dtype: object\n"
          ]
        }
      ],
      "source": [
        "# Parcours de chaque colonne du DataFrame\n",
        "for column in df.columns:\n",
        "    # Conversion de la colonne en type float en ignorant les erreurs de conversion\n",
        "    df[column] = pd.to_numeric(df[column], errors='coerce')\n",
        "\n",
        "# Afficher les types de données des colonnes\n",
        "print(df.dtypes)"
      ]
    },
    {
      "cell_type": "code",
      "execution_count": null,
      "id": "f3945b04",
      "metadata": {
        "id": "f3945b04",
        "outputId": "26d77f90-ef1c-4865-e6c7-29b34e14b691"
      },
      "outputs": [
        {
          "data": {
            "text/html": [
              "<div>\n",
              "<style scoped>\n",
              "    .dataframe tbody tr th:only-of-type {\n",
              "        vertical-align: middle;\n",
              "    }\n",
              "\n",
              "    .dataframe tbody tr th {\n",
              "        vertical-align: top;\n",
              "    }\n",
              "\n",
              "    .dataframe thead th {\n",
              "        text-align: right;\n",
              "    }\n",
              "</style>\n",
              "<table border=\"1\" class=\"dataframe\">\n",
              "  <thead>\n",
              "    <tr style=\"text-align: right;\">\n",
              "      <th></th>\n",
              "      <th>Polyuria</th>\n",
              "      <th>Polydipsia</th>\n",
              "      <th>sudden weight loss</th>\n",
              "      <th>weakness</th>\n",
              "      <th>Polyphagia</th>\n",
              "      <th>Genital thrush</th>\n",
              "      <th>visual blurring</th>\n",
              "      <th>Itching</th>\n",
              "      <th>Irritability</th>\n",
              "      <th>delayed healing</th>\n",
              "      <th>partial paresis</th>\n",
              "      <th>muscle stiffness</th>\n",
              "      <th>Alopecia</th>\n",
              "      <th>Obesity</th>\n",
              "      <th>class</th>\n",
              "    </tr>\n",
              "  </thead>\n",
              "  <tbody>\n",
              "    <tr>\n",
              "      <th>0</th>\n",
              "      <td>0</td>\n",
              "      <td>1</td>\n",
              "      <td>0</td>\n",
              "      <td>1</td>\n",
              "      <td>0</td>\n",
              "      <td>0</td>\n",
              "      <td>0</td>\n",
              "      <td>1</td>\n",
              "      <td>0</td>\n",
              "      <td>1</td>\n",
              "      <td>0</td>\n",
              "      <td>1</td>\n",
              "      <td>1</td>\n",
              "      <td>1</td>\n",
              "      <td>1</td>\n",
              "    </tr>\n",
              "    <tr>\n",
              "      <th>1</th>\n",
              "      <td>0</td>\n",
              "      <td>0</td>\n",
              "      <td>0</td>\n",
              "      <td>1</td>\n",
              "      <td>0</td>\n",
              "      <td>0</td>\n",
              "      <td>1</td>\n",
              "      <td>0</td>\n",
              "      <td>0</td>\n",
              "      <td>0</td>\n",
              "      <td>1</td>\n",
              "      <td>0</td>\n",
              "      <td>1</td>\n",
              "      <td>0</td>\n",
              "      <td>1</td>\n",
              "    </tr>\n",
              "    <tr>\n",
              "      <th>2</th>\n",
              "      <td>1</td>\n",
              "      <td>0</td>\n",
              "      <td>0</td>\n",
              "      <td>1</td>\n",
              "      <td>1</td>\n",
              "      <td>0</td>\n",
              "      <td>0</td>\n",
              "      <td>1</td>\n",
              "      <td>0</td>\n",
              "      <td>1</td>\n",
              "      <td>0</td>\n",
              "      <td>1</td>\n",
              "      <td>1</td>\n",
              "      <td>0</td>\n",
              "      <td>1</td>\n",
              "    </tr>\n",
              "    <tr>\n",
              "      <th>3</th>\n",
              "      <td>0</td>\n",
              "      <td>0</td>\n",
              "      <td>1</td>\n",
              "      <td>1</td>\n",
              "      <td>1</td>\n",
              "      <td>1</td>\n",
              "      <td>0</td>\n",
              "      <td>1</td>\n",
              "      <td>0</td>\n",
              "      <td>1</td>\n",
              "      <td>0</td>\n",
              "      <td>0</td>\n",
              "      <td>0</td>\n",
              "      <td>0</td>\n",
              "      <td>1</td>\n",
              "    </tr>\n",
              "    <tr>\n",
              "      <th>4</th>\n",
              "      <td>1</td>\n",
              "      <td>1</td>\n",
              "      <td>1</td>\n",
              "      <td>1</td>\n",
              "      <td>1</td>\n",
              "      <td>0</td>\n",
              "      <td>1</td>\n",
              "      <td>1</td>\n",
              "      <td>1</td>\n",
              "      <td>1</td>\n",
              "      <td>1</td>\n",
              "      <td>1</td>\n",
              "      <td>1</td>\n",
              "      <td>1</td>\n",
              "      <td>1</td>\n",
              "    </tr>\n",
              "    <tr>\n",
              "      <th>...</th>\n",
              "      <td>...</td>\n",
              "      <td>...</td>\n",
              "      <td>...</td>\n",
              "      <td>...</td>\n",
              "      <td>...</td>\n",
              "      <td>...</td>\n",
              "      <td>...</td>\n",
              "      <td>...</td>\n",
              "      <td>...</td>\n",
              "      <td>...</td>\n",
              "      <td>...</td>\n",
              "      <td>...</td>\n",
              "      <td>...</td>\n",
              "      <td>...</td>\n",
              "      <td>...</td>\n",
              "    </tr>\n",
              "    <tr>\n",
              "      <th>515</th>\n",
              "      <td>1</td>\n",
              "      <td>1</td>\n",
              "      <td>1</td>\n",
              "      <td>0</td>\n",
              "      <td>1</td>\n",
              "      <td>0</td>\n",
              "      <td>0</td>\n",
              "      <td>1</td>\n",
              "      <td>0</td>\n",
              "      <td>1</td>\n",
              "      <td>1</td>\n",
              "      <td>0</td>\n",
              "      <td>0</td>\n",
              "      <td>0</td>\n",
              "      <td>1</td>\n",
              "    </tr>\n",
              "    <tr>\n",
              "      <th>516</th>\n",
              "      <td>1</td>\n",
              "      <td>1</td>\n",
              "      <td>1</td>\n",
              "      <td>1</td>\n",
              "      <td>1</td>\n",
              "      <td>0</td>\n",
              "      <td>0</td>\n",
              "      <td>1</td>\n",
              "      <td>1</td>\n",
              "      <td>1</td>\n",
              "      <td>1</td>\n",
              "      <td>0</td>\n",
              "      <td>0</td>\n",
              "      <td>0</td>\n",
              "      <td>1</td>\n",
              "    </tr>\n",
              "    <tr>\n",
              "      <th>517</th>\n",
              "      <td>1</td>\n",
              "      <td>1</td>\n",
              "      <td>1</td>\n",
              "      <td>1</td>\n",
              "      <td>1</td>\n",
              "      <td>0</td>\n",
              "      <td>1</td>\n",
              "      <td>0</td>\n",
              "      <td>0</td>\n",
              "      <td>0</td>\n",
              "      <td>1</td>\n",
              "      <td>1</td>\n",
              "      <td>0</td>\n",
              "      <td>1</td>\n",
              "      <td>1</td>\n",
              "    </tr>\n",
              "    <tr>\n",
              "      <th>518</th>\n",
              "      <td>0</td>\n",
              "      <td>0</td>\n",
              "      <td>0</td>\n",
              "      <td>1</td>\n",
              "      <td>0</td>\n",
              "      <td>0</td>\n",
              "      <td>1</td>\n",
              "      <td>1</td>\n",
              "      <td>0</td>\n",
              "      <td>1</td>\n",
              "      <td>0</td>\n",
              "      <td>0</td>\n",
              "      <td>1</td>\n",
              "      <td>0</td>\n",
              "      <td>0</td>\n",
              "    </tr>\n",
              "    <tr>\n",
              "      <th>519</th>\n",
              "      <td>0</td>\n",
              "      <td>0</td>\n",
              "      <td>0</td>\n",
              "      <td>0</td>\n",
              "      <td>0</td>\n",
              "      <td>0</td>\n",
              "      <td>0</td>\n",
              "      <td>0</td>\n",
              "      <td>0</td>\n",
              "      <td>0</td>\n",
              "      <td>0</td>\n",
              "      <td>0</td>\n",
              "      <td>0</td>\n",
              "      <td>0</td>\n",
              "      <td>0</td>\n",
              "    </tr>\n",
              "  </tbody>\n",
              "</table>\n",
              "<p>520 rows × 15 columns</p>\n",
              "</div>"
            ],
            "text/plain": [
              "     Polyuria  Polydipsia  sudden weight loss  weakness  Polyphagia  \\\n",
              "0           0           1                   0         1           0   \n",
              "1           0           0                   0         1           0   \n",
              "2           1           0                   0         1           1   \n",
              "3           0           0                   1         1           1   \n",
              "4           1           1                   1         1           1   \n",
              "..        ...         ...                 ...       ...         ...   \n",
              "515         1           1                   1         0           1   \n",
              "516         1           1                   1         1           1   \n",
              "517         1           1                   1         1           1   \n",
              "518         0           0                   0         1           0   \n",
              "519         0           0                   0         0           0   \n",
              "\n",
              "     Genital thrush  visual blurring  Itching  Irritability  delayed healing  \\\n",
              "0                 0                0        1             0                1   \n",
              "1                 0                1        0             0                0   \n",
              "2                 0                0        1             0                1   \n",
              "3                 1                0        1             0                1   \n",
              "4                 0                1        1             1                1   \n",
              "..              ...              ...      ...           ...              ...   \n",
              "515               0                0        1             0                1   \n",
              "516               0                0        1             1                1   \n",
              "517               0                1        0             0                0   \n",
              "518               0                1        1             0                1   \n",
              "519               0                0        0             0                0   \n",
              "\n",
              "     partial paresis  muscle stiffness  Alopecia  Obesity  class  \n",
              "0                  0                 1         1        1      1  \n",
              "1                  1                 0         1        0      1  \n",
              "2                  0                 1         1        0      1  \n",
              "3                  0                 0         0        0      1  \n",
              "4                  1                 1         1        1      1  \n",
              "..               ...               ...       ...      ...    ...  \n",
              "515                1                 0         0        0      1  \n",
              "516                1                 0         0        0      1  \n",
              "517                1                 1         0        1      1  \n",
              "518                0                 0         1        0      0  \n",
              "519                0                 0         0        0      0  \n",
              "\n",
              "[520 rows x 15 columns]"
            ]
          },
          "execution_count": 14,
          "metadata": {},
          "output_type": "execute_result"
        }
      ],
      "source": [
        "df"
      ]
    },
    {
      "cell_type": "markdown",
      "id": "df281389",
      "metadata": {
        "id": "df281389"
      },
      "source": [
        "### Gestion des données manquantes"
      ]
    },
    {
      "cell_type": "code",
      "execution_count": null,
      "id": "ae0992c5",
      "metadata": {
        "id": "ae0992c5",
        "outputId": "7a1d530f-9c43-4338-f873-3b1a19ef29e6"
      },
      "outputs": [
        {
          "name": "stdout",
          "output_type": "stream",
          "text": [
            "Nombre de valeurs manquantes par variable :\n",
            " Polyuria              0\n",
            "Polydipsia            0\n",
            "sudden weight loss    0\n",
            "weakness              0\n",
            "Polyphagia            0\n",
            "Genital thrush        0\n",
            "visual blurring       0\n",
            "Itching               0\n",
            "Irritability          0\n",
            "delayed healing       0\n",
            "partial paresis       0\n",
            "muscle stiffness      0\n",
            "Alopecia              0\n",
            "Obesity               0\n",
            "class                 0\n",
            "dtype: int64\n",
            "\n",
            "Variables avec des valeurs manquantes : []\n"
          ]
        }
      ],
      "source": [
        "#Compter le nombre de valeurs manquantes par variable\n",
        "missing_values_count = df.isnull().sum()\n",
        "\n",
        "# Afficher le nombre de valeurs manquantes par variable\n",
        "print(\"Nombre de valeurs manquantes par variable :\\n\", missing_values_count)\n",
        "\n",
        "# Afficher les variables qui contiennent des valeurs manquantes\n",
        "missing_variables = df.columns[df.isnull().any()].tolist()\n",
        "print(\"\\nVariables avec des valeurs manquantes :\", missing_variables)"
      ]
    },
    {
      "cell_type": "markdown",
      "id": "eeb31b7d",
      "metadata": {
        "id": "eeb31b7d"
      },
      "source": [
        "Commentaires : Aucune valeur manquante dans notre df"
      ]
    },
    {
      "cell_type": "markdown",
      "id": "bfaa56d2",
      "metadata": {
        "id": "bfaa56d2"
      },
      "source": [
        "### HEATMAP"
      ]
    },
    {
      "cell_type": "code",
      "execution_count": null,
      "id": "52c54c35",
      "metadata": {
        "id": "52c54c35"
      },
      "outputs": [],
      "source": [
        "import matplotlib.pyplot as plt\n",
        "import seaborn as sns"
      ]
    },
    {
      "cell_type": "code",
      "execution_count": null,
      "id": "06d91fd4",
      "metadata": {
        "id": "06d91fd4",
        "outputId": "801b97e8-6e45-47e9-b184-794f9211fa20"
      },
      "outputs": [
        {
          "data": {
            "image/png": "[encoded data removed]",
            "text/plain": [
              "<Figure size 864x576 with 1 Axes>"
            ]
          },
          "metadata": {
            "needs_background": "light"
          },
          "output_type": "display_data"
        },
        {
          "data": {
            "image/png": "[encoded data removed]",
            "text/plain": [
              "<Figure size 864x576 with 1 Axes>"
            ]
          },
          "metadata": {
            "needs_background": "light"
          },
          "output_type": "display_data"
        }
      ],
      "source": [
        "# Calculer la matrice de corrélation\n",
        "correlation_matrix = df.corr()\n",
        "\n",
        "# Séparer les corrélations positives et négatives\n",
        "positive_corr_matrix = correlation_matrix[correlation_matrix > 0]\n",
        "negative_corr_matrix = correlation_matrix[correlation_matrix < 0]\n",
        "\n",
        "# Tracer le heatmap pour les corrélations positives\n",
        "plt.figure(figsize=(12, 8))\n",
        "sns.heatmap(positive_corr_matrix, cmap='YlGnBu', annot=True, fmt=\".2f\", cbar=False)\n",
        "plt.title('Corrélations Positives')\n",
        "plt.show()\n",
        "\n",
        "# Tracer le heatmap pour les corrélations négatives\n",
        "plt.figure(figsize=(12, 8))\n",
        "sns.heatmap(negative_corr_matrix, cmap='YlOrRd', annot=True, fmt=\".2f\", cbar=False)\n",
        "plt.title('Corrélations Négatives')\n",
        "plt.show()"
      ]
    },
    {
      "cell_type": "markdown",
      "id": "989aedde",
      "metadata": {
        "id": "989aedde"
      },
      "source": [
        "### Distribution de chaque variable"
      ]
    },
    {
      "cell_type": "code",
      "execution_count": null,
      "id": "74676217",
      "metadata": {
        "id": "74676217",
        "outputId": "b778c96e-f15c-4b2f-d8e0-0b79e0007dfd"
      },
      "outputs": [
        {
          "data": {
            "image/png": "[encoded data removed]",
            "text/plain": [
              "<Figure size 1152x864 with 15 Axes>"
            ]
          },
          "metadata": {
            "needs_background": "light"
          },
          "output_type": "display_data"
        }
      ],
      "source": [
        "# Définir la taille de la figure\n",
        "plt.figure(figsize=(16, 12))\n",
        "\n",
        "# Parcourir chaque colonne du DataFrame et tracer un histogramme\n",
        "for i, colonne in enumerate(df.columns, 1):\n",
        "    plt.subplot(4, 4, i)  # 4x4 sous-plots pour une mise en page propre\n",
        "    sns.histplot(df[colonne], bins=20, kde=True)  # Tracer un histogramme avec une estimation de la densité kernel\n",
        "    plt.title(f'Distribution de {colonne}')\n",
        "\n",
        "# Ajuster l'espacement entre les sous-plots pour une meilleure lisibilité\n",
        "plt.tight_layout()\n",
        "plt.show()"
      ]
    },
    {
      "cell_type": "code",
      "execution_count": null,
      "id": "27d1606f",
      "metadata": {
        "scrolled": true,
        "id": "27d1606f",
        "outputId": "a32542cd-e2e4-42e4-97cb-4290c78b2ae2"
      },
      "outputs": [
        {
          "name": "stdout",
          "output_type": "stream",
          "text": [
            "\n",
            "Décompte des valeurs dans la colonne Polyuria :\n",
            "0    262\n",
            "1    258\n",
            "Name: Polyuria, dtype: int64\n",
            "\n",
            "Décompte des valeurs dans la colonne Polydipsia :\n",
            "0    287\n",
            "1    233\n",
            "Name: Polydipsia, dtype: int64\n",
            "\n",
            "Décompte des valeurs dans la colonne sudden weight loss :\n",
            "0    303\n",
            "1    217\n",
            "Name: sudden weight loss, dtype: int64\n",
            "\n",
            "Décompte des valeurs dans la colonne weakness :\n",
            "1    305\n",
            "0    215\n",
            "Name: weakness, dtype: int64\n",
            "\n",
            "Décompte des valeurs dans la colonne Polyphagia :\n",
            "0    283\n",
            "1    237\n",
            "Name: Polyphagia, dtype: int64\n",
            "\n",
            "Décompte des valeurs dans la colonne Genital thrush :\n",
            "0    404\n",
            "1    116\n",
            "Name: Genital thrush, dtype: int64\n",
            "\n",
            "Décompte des valeurs dans la colonne visual blurring :\n",
            "0    287\n",
            "1    233\n",
            "Name: visual blurring, dtype: int64\n",
            "\n",
            "Décompte des valeurs dans la colonne Itching :\n",
            "0    267\n",
            "1    253\n",
            "Name: Itching, dtype: int64\n",
            "\n",
            "Décompte des valeurs dans la colonne Irritability :\n",
            "0    394\n",
            "1    126\n",
            "Name: Irritability, dtype: int64\n",
            "\n",
            "Décompte des valeurs dans la colonne delayed healing :\n",
            "0    281\n",
            "1    239\n",
            "Name: delayed healing, dtype: int64\n",
            "\n",
            "Décompte des valeurs dans la colonne partial paresis :\n",
            "0    296\n",
            "1    224\n",
            "Name: partial paresis, dtype: int64\n",
            "\n",
            "Décompte des valeurs dans la colonne muscle stiffness :\n",
            "0    325\n",
            "1    195\n",
            "Name: muscle stiffness, dtype: int64\n",
            "\n",
            "Décompte des valeurs dans la colonne Alopecia :\n",
            "0    341\n",
            "1    179\n",
            "Name: Alopecia, dtype: int64\n",
            "\n",
            "Décompte des valeurs dans la colonne Obesity :\n",
            "0    432\n",
            "1     88\n",
            "Name: Obesity, dtype: int64\n",
            "\n",
            "Décompte des valeurs dans la colonne class :\n",
            "1    320\n",
            "0    200\n",
            "Name: class, dtype: int64\n"
          ]
        }
      ],
      "source": [
        "# Parcourir chaque colonne du DataFrame\n",
        "for colonne in df.columns:\n",
        "    # Afficher le décompte des valeurs pour chaque variable\n",
        "    print(f'\\nDécompte des valeurs dans la colonne {colonne} :')\n",
        "    print(df[colonne].value_counts())"
      ]
    },
    {
      "cell_type": "code",
      "execution_count": null,
      "id": "a5d0def5",
      "metadata": {
        "colab": {
          "base_uri": "https://localhost:8080/"
        },
        "id": "a5d0def5",
        "outputId": "314e498d-bb52-4edb-c960-8f0f732817ac"
      },
      "outputs": [
        {
          "output_type": "stream",
          "name": "stdout",
          "text": [
            "   Polyuria  Polydipsia  sudden weight loss  weakness  Polyphagia  \\\n",
            "0       262         287                 303       215         283   \n",
            "1       258         233                 217       305         237   \n",
            "\n",
            "   Genital thrush  visual blurring  Itching  Irritability  delayed healing  \\\n",
            "0             404              287      267           394              281   \n",
            "1             116              233      253           126              239   \n",
            "\n",
            "   partial paresis  muscle stiffness  Alopecia  Obesity  class  \n",
            "0              296               325       341      432    200  \n",
            "1              224               195       179       88    320  \n"
          ]
        }
      ],
      "source": [
        "# Créer un DataFrame pour stocker les décomptes\n",
        "decomptes_df = pd.DataFrame()\n",
        "\n",
        "# Parcourir chaque colonne du DataFrame\n",
        "for colonne in df.columns:\n",
        "    # Ajouter une colonne au DataFrame de décomptes\n",
        "    decomptes_df[colonne] = df[colonne].value_counts()\n",
        "\n",
        "# Afficher le DataFrame de décomptes\n",
        "print(decomptes_df)"
      ]
    },
    {
      "cell_type": "markdown",
      "id": "1894577e",
      "metadata": {
        "id": "1894577e"
      },
      "source": [
        "### MODELISATION"
      ]
    },
    {
      "cell_type": "code",
      "execution_count": null,
      "id": "16996d62",
      "metadata": {
        "id": "16996d62"
      },
      "outputs": [],
      "source": [
        "# 1) Créer une matrice des variables indépendantes (X) et le vecteur de la variable dépendante (Y).\n",
        "# X est la matrice et Y (outcome) est le vecteur\n",
        "\n",
        "X = df.drop('class', axis=1)  # Supprimer la colonne \"target\" de la matrice X\n",
        "Y = df['class']"
      ]
    },
    {
      "cell_type": "code",
      "execution_count": null,
      "id": "2b7f8322",
      "metadata": {
        "id": "2b7f8322",
        "outputId": "a5b25797-a88b-4ad5-a9b9-5dcb1421fbb6"
      },
      "outputs": [
        {
          "data": {
            "text/html": [
              "<div>\n",
              "<style scoped>\n",
              "    .dataframe tbody tr th:only-of-type {\n",
              "        vertical-align: middle;\n",
              "    }\n",
              "\n",
              "    .dataframe tbody tr th {\n",
              "        vertical-align: top;\n",
              "    }\n",
              "\n",
              "    .dataframe thead th {\n",
              "        text-align: right;\n",
              "    }\n",
              "</style>\n",
              "<table border=\"1\" class=\"dataframe\">\n",
              "  <thead>\n",
              "    <tr style=\"text-align: right;\">\n",
              "      <th></th>\n",
              "      <th>Polyuria</th>\n",
              "      <th>Polydipsia</th>\n",
              "      <th>sudden weight loss</th>\n",
              "      <th>weakness</th>\n",
              "      <th>Polyphagia</th>\n",
              "      <th>Genital thrush</th>\n",
              "      <th>visual blurring</th>\n",
              "      <th>Itching</th>\n",
              "      <th>Irritability</th>\n",
              "      <th>delayed healing</th>\n",
              "      <th>partial paresis</th>\n",
              "      <th>muscle stiffness</th>\n",
              "      <th>Alopecia</th>\n",
              "      <th>Obesity</th>\n",
              "    </tr>\n",
              "  </thead>\n",
              "  <tbody>\n",
              "    <tr>\n",
              "      <th>0</th>\n",
              "      <td>0</td>\n",
              "      <td>1</td>\n",
              "      <td>0</td>\n",
              "      <td>1</td>\n",
              "      <td>0</td>\n",
              "      <td>0</td>\n",
              "      <td>0</td>\n",
              "      <td>1</td>\n",
              "      <td>0</td>\n",
              "      <td>1</td>\n",
              "      <td>0</td>\n",
              "      <td>1</td>\n",
              "      <td>1</td>\n",
              "      <td>1</td>\n",
              "    </tr>\n",
              "    <tr>\n",
              "      <th>1</th>\n",
              "      <td>0</td>\n",
              "      <td>0</td>\n",
              "      <td>0</td>\n",
              "      <td>1</td>\n",
              "      <td>0</td>\n",
              "      <td>0</td>\n",
              "      <td>1</td>\n",
              "      <td>0</td>\n",
              "      <td>0</td>\n",
              "      <td>0</td>\n",
              "      <td>1</td>\n",
              "      <td>0</td>\n",
              "      <td>1</td>\n",
              "      <td>0</td>\n",
              "    </tr>\n",
              "    <tr>\n",
              "      <th>2</th>\n",
              "      <td>1</td>\n",
              "      <td>0</td>\n",
              "      <td>0</td>\n",
              "      <td>1</td>\n",
              "      <td>1</td>\n",
              "      <td>0</td>\n",
              "      <td>0</td>\n",
              "      <td>1</td>\n",
              "      <td>0</td>\n",
              "      <td>1</td>\n",
              "      <td>0</td>\n",
              "      <td>1</td>\n",
              "      <td>1</td>\n",
              "      <td>0</td>\n",
              "    </tr>\n",
              "    <tr>\n",
              "      <th>3</th>\n",
              "      <td>0</td>\n",
              "      <td>0</td>\n",
              "      <td>1</td>\n",
              "      <td>1</td>\n",
              "      <td>1</td>\n",
              "      <td>1</td>\n",
              "      <td>0</td>\n",
              "      <td>1</td>\n",
              "      <td>0</td>\n",
              "      <td>1</td>\n",
              "      <td>0</td>\n",
              "      <td>0</td>\n",
              "      <td>0</td>\n",
              "      <td>0</td>\n",
              "    </tr>\n",
              "    <tr>\n",
              "      <th>4</th>\n",
              "      <td>1</td>\n",
              "      <td>1</td>\n",
              "      <td>1</td>\n",
              "      <td>1</td>\n",
              "      <td>1</td>\n",
              "      <td>0</td>\n",
              "      <td>1</td>\n",
              "      <td>1</td>\n",
              "      <td>1</td>\n",
              "      <td>1</td>\n",
              "      <td>1</td>\n",
              "      <td>1</td>\n",
              "      <td>1</td>\n",
              "      <td>1</td>\n",
              "    </tr>\n",
              "    <tr>\n",
              "      <th>...</th>\n",
              "      <td>...</td>\n",
              "      <td>...</td>\n",
              "      <td>...</td>\n",
              "      <td>...</td>\n",
              "      <td>...</td>\n",
              "      <td>...</td>\n",
              "      <td>...</td>\n",
              "      <td>...</td>\n",
              "      <td>...</td>\n",
              "      <td>...</td>\n",
              "      <td>...</td>\n",
              "      <td>...</td>\n",
              "      <td>...</td>\n",
              "      <td>...</td>\n",
              "    </tr>\n",
              "    <tr>\n",
              "      <th>515</th>\n",
              "      <td>1</td>\n",
              "      <td>1</td>\n",
              "      <td>1</td>\n",
              "      <td>0</td>\n",
              "      <td>1</td>\n",
              "      <td>0</td>\n",
              "      <td>0</td>\n",
              "      <td>1</td>\n",
              "      <td>0</td>\n",
              "      <td>1</td>\n",
              "      <td>1</td>\n",
              "      <td>0</td>\n",
              "      <td>0</td>\n",
              "      <td>0</td>\n",
              "    </tr>\n",
              "    <tr>\n",
              "      <th>516</th>\n",
              "      <td>1</td>\n",
              "      <td>1</td>\n",
              "      <td>1</td>\n",
              "      <td>1</td>\n",
              "      <td>1</td>\n",
              "      <td>0</td>\n",
              "      <td>0</td>\n",
              "      <td>1</td>\n",
              "      <td>1</td>\n",
              "      <td>1</td>\n",
              "      <td>1</td>\n",
              "      <td>0</td>\n",
              "      <td>0</td>\n",
              "      <td>0</td>\n",
              "    </tr>\n",
              "    <tr>\n",
              "      <th>517</th>\n",
              "      <td>1</td>\n",
              "      <td>1</td>\n",
              "      <td>1</td>\n",
              "      <td>1</td>\n",
              "      <td>1</td>\n",
              "      <td>0</td>\n",
              "      <td>1</td>\n",
              "      <td>0</td>\n",
              "      <td>0</td>\n",
              "      <td>0</td>\n",
              "      <td>1</td>\n",
              "      <td>1</td>\n",
              "      <td>0</td>\n",
              "      <td>1</td>\n",
              "    </tr>\n",
              "    <tr>\n",
              "      <th>518</th>\n",
              "      <td>0</td>\n",
              "      <td>0</td>\n",
              "      <td>0</td>\n",
              "      <td>1</td>\n",
              "      <td>0</td>\n",
              "      <td>0</td>\n",
              "      <td>1</td>\n",
              "      <td>1</td>\n",
              "      <td>0</td>\n",
              "      <td>1</td>\n",
              "      <td>0</td>\n",
              "      <td>0</td>\n",
              "      <td>1</td>\n",
              "      <td>0</td>\n",
              "    </tr>\n",
              "    <tr>\n",
              "      <th>519</th>\n",
              "      <td>0</td>\n",
              "      <td>0</td>\n",
              "      <td>0</td>\n",
              "      <td>0</td>\n",
              "      <td>0</td>\n",
              "      <td>0</td>\n",
              "      <td>0</td>\n",
              "      <td>0</td>\n",
              "      <td>0</td>\n",
              "      <td>0</td>\n",
              "      <td>0</td>\n",
              "      <td>0</td>\n",
              "      <td>0</td>\n",
              "      <td>0</td>\n",
              "    </tr>\n",
              "  </tbody>\n",
              "</table>\n",
              "<p>520 rows × 14 columns</p>\n",
              "</div>"
            ],
            "text/plain": [
              "     Polyuria  Polydipsia  sudden weight loss  weakness  Polyphagia  \\\n",
              "0           0           1                   0         1           0   \n",
              "1           0           0                   0         1           0   \n",
              "2           1           0                   0         1           1   \n",
              "3           0           0                   1         1           1   \n",
              "4           1           1                   1         1           1   \n",
              "..        ...         ...                 ...       ...         ...   \n",
              "515         1           1                   1         0           1   \n",
              "516         1           1                   1         1           1   \n",
              "517         1           1                   1         1           1   \n",
              "518         0           0                   0         1           0   \n",
              "519         0           0                   0         0           0   \n",
              "\n",
              "     Genital thrush  visual blurring  Itching  Irritability  delayed healing  \\\n",
              "0                 0                0        1             0                1   \n",
              "1                 0                1        0             0                0   \n",
              "2                 0                0        1             0                1   \n",
              "3                 1                0        1             0                1   \n",
              "4                 0                1        1             1                1   \n",
              "..              ...              ...      ...           ...              ...   \n",
              "515               0                0        1             0                1   \n",
              "516               0                0        1             1                1   \n",
              "517               0                1        0             0                0   \n",
              "518               0                1        1             0                1   \n",
              "519               0                0        0             0                0   \n",
              "\n",
              "     partial paresis  muscle stiffness  Alopecia  Obesity  \n",
              "0                  0                 1         1        1  \n",
              "1                  1                 0         1        0  \n",
              "2                  0                 1         1        0  \n",
              "3                  0                 0         0        0  \n",
              "4                  1                 1         1        1  \n",
              "..               ...               ...       ...      ...  \n",
              "515                1                 0         0        0  \n",
              "516                1                 0         0        0  \n",
              "517                1                 1         0        1  \n",
              "518                0                 0         1        0  \n",
              "519                0                 0         0        0  \n",
              "\n",
              "[520 rows x 14 columns]"
            ]
          },
          "execution_count": 22,
          "metadata": {},
          "output_type": "execute_result"
        }
      ],
      "source": [
        "X"
      ]
    },
    {
      "cell_type": "code",
      "execution_count": null,
      "id": "1c78db2b",
      "metadata": {
        "id": "1c78db2b",
        "outputId": "cb7bf087-c3ac-4848-d247-793f937f0bc6"
      },
      "outputs": [
        {
          "data": {
            "text/plain": [
              "0      1\n",
              "1      1\n",
              "2      1\n",
              "3      1\n",
              "4      1\n",
              "      ..\n",
              "515    1\n",
              "516    1\n",
              "517    1\n",
              "518    0\n",
              "519    0\n",
              "Name: class, Length: 520, dtype: int64"
            ]
          },
          "execution_count": 23,
          "metadata": {},
          "output_type": "execute_result"
        }
      ],
      "source": [
        "Y"
      ]
    },
    {
      "cell_type": "markdown",
      "id": "fa028e31",
      "metadata": {
        "id": "fa028e31"
      },
      "source": [
        "### Séparation du dataset en training_set et en test_set"
      ]
    },
    {
      "cell_type": "code",
      "execution_count": null,
      "id": "79f2b2d8",
      "metadata": {
        "id": "79f2b2d8",
        "outputId": "fe448568-7859-48ea-bd0d-f0e4ca9cb6e7"
      },
      "outputs": [
        {
          "name": "stdout",
          "output_type": "stream",
          "text": [
            "Proportion de données dans l'ensemble d'entraînement: 0.67\n",
            "Proportion de données dans l'ensemble de test: 0.33\n"
          ]
        }
      ],
      "source": [
        "from sklearn.model_selection import train_test_split\n",
        "\n",
        "X_train, X_test, Y_train, Y_test = train_test_split(X, Y, test_size = 1/3, random_state= 0)\n",
        "\n",
        "# Calculer la proportion de chaque ensemble\n",
        "train_prop = len(X_train) / len(X)\n",
        "test_prop = len(X_test) / len(X)\n",
        "\n",
        "print(\"Proportion de données dans l'ensemble d'entraînement: {:.2f}\".format(train_prop))\n",
        "print(\"Proportion de données dans l'ensemble de test: {:.2f}\".format(test_prop))"
      ]
    },
    {
      "cell_type": "markdown",
      "id": "cf907c04",
      "metadata": {
        "id": "cf907c04"
      },
      "source": [
        "## 1- Régression Logistique"
      ]
    },
    {
      "cell_type": "code",
      "execution_count": null,
      "id": "3ae1e48a",
      "metadata": {
        "id": "3ae1e48a",
        "outputId": "cd52a645-6352-4737-aa7b-476a55d26f6d"
      },
      "outputs": [
        {
          "data": {
            "text/plain": [
              "LogisticRegression(max_iter=1000, random_state=42)"
            ]
          },
          "execution_count": 25,
          "metadata": {},
          "output_type": "execute_result"
        }
      ],
      "source": [
        "from sklearn.linear_model import LogisticRegression\n",
        "\n",
        "# Création et entraînement du modèle de régression logistique\n",
        "RL = LogisticRegression(max_iter=1000, solver='lbfgs', random_state=42)\n",
        "RL.fit(X_train, Y_train)"
      ]
    },
    {
      "cell_type": "code",
      "execution_count": null,
      "id": "b7370399",
      "metadata": {
        "scrolled": true,
        "id": "b7370399",
        "outputId": "49c19f58-47b9-4706-84ba-107436c8adc5"
      },
      "outputs": [
        {
          "data": {
            "text/plain": [
              "array([1, 1, 1, 0, 1, 1, 1, 1, 1, 1, 1, 0, 1, 1, 1, 1, 1, 1, 1, 1, 1, 0,\n",
              "       1, 0, 0, 0, 0, 1, 1, 1, 1, 0, 0, 1, 1, 1, 1, 0, 1, 1, 1, 0, 1, 0,\n",
              "       0, 1, 1, 0, 1, 0, 1, 0, 1, 0, 1, 0, 1, 1, 1, 1, 0, 0, 1, 1, 1, 0,\n",
              "       1, 0, 1, 1, 0, 0, 1, 1, 0, 1, 0, 1, 1, 0, 1, 1, 0, 0, 1, 1, 1, 1,\n",
              "       0, 0, 0, 0, 0, 0, 1, 1, 1, 1, 0, 0, 0, 1, 1, 1, 0, 1, 1, 0, 1, 0,\n",
              "       0, 0, 1, 1, 1, 0, 0, 1, 0, 0, 0, 0, 1, 0, 0, 1, 0, 0, 0, 0, 1, 0,\n",
              "       0, 1, 1, 0, 1, 1, 1, 1, 1, 1, 0, 0, 0, 0, 1, 1, 1, 1, 1, 1, 1, 1,\n",
              "       1, 1, 1, 1, 0, 1, 1, 0, 1, 1, 1, 1, 0, 1, 0, 1, 1, 0, 0, 1],\n",
              "      dtype=int64)"
            ]
          },
          "execution_count": 26,
          "metadata": {},
          "output_type": "execute_result"
        }
      ],
      "source": [
        "# Prédire les classes pour les données de test\n",
        "Y_pred1 = RL.predict(X_test)\n",
        "Y_pred1"
      ]
    },
    {
      "cell_type": "markdown",
      "id": "d5a3629b",
      "metadata": {
        "id": "d5a3629b"
      },
      "source": [
        "### METRICS"
      ]
    },
    {
      "cell_type": "code",
      "execution_count": null,
      "id": "450733da",
      "metadata": {
        "id": "450733da",
        "outputId": "3485179b-6cb2-455f-838c-e779eb43932a"
      },
      "outputs": [
        {
          "data": {
            "text/plain": [
              "array([[56, 11],\n",
              "       [12, 95]], dtype=int64)"
            ]
          },
          "execution_count": 27,
          "metadata": {},
          "output_type": "execute_result"
        }
      ],
      "source": [
        "from sklearn.metrics import confusion_matrix\n",
        "CM1 = confusion_matrix(Y_test, Y_pred1)\n",
        "CM1"
      ]
    },
    {
      "cell_type": "code",
      "execution_count": null,
      "id": "ac79ed89",
      "metadata": {
        "id": "ac79ed89",
        "outputId": "01c2f4a5-52e3-43a8-a488-352a9692b34c"
      },
      "outputs": [
        {
          "data": {
            "image/png": "[encoded data removed]",
            "text/plain": [
              "<Figure size 432x288 with 2 Axes>"
            ]
          },
          "metadata": {
            "needs_background": "light"
          },
          "output_type": "display_data"
        }
      ],
      "source": [
        "group_names = ['True Neg','False Pos','False Neg','True Pos']\n",
        "group_counts = ['{0:0.0f}'.format(value) for value in\n",
        "                CM1.flatten()]\n",
        "group_percentages = ['{0:.2%}'.format(value) for value in\n",
        "                     CM1.flatten()/np.sum(CM1)]\n",
        "labels = [f'{v1}\\n{v2}\\n{v3}' for v1, v2, v3 in\n",
        "          zip(group_names,group_counts,group_percentages)]\n",
        "labels = np.asarray(labels).reshape(2,2)\n",
        "sns.heatmap(CM1, annot=labels, fmt='', cmap='Blues')\n",
        "plt.xlabel('Predicted Label', fontsize=14)\n",
        "plt.ylabel('True Label', fontsize=14)\n",
        "plt.title('Confusion Matrix Regression Logistique', fontsize=16)\n",
        "plt.tight_layout()\n",
        "plt.show()"
      ]
    },
    {
      "cell_type": "code",
      "execution_count": null,
      "id": "b73ae8bc",
      "metadata": {
        "id": "b73ae8bc",
        "outputId": "d31943be-c4af-49f8-c588-db0a36fdc213"
      },
      "outputs": [
        {
          "data": {
            "image/png": "[encoded data removed]",
            "text/plain": [
              "<Figure size 432x288 with 1 Axes>"
            ]
          },
          "metadata": {
            "needs_background": "light"
          },
          "output_type": "display_data"
        }
      ],
      "source": [
        "from sklearn import metrics\n",
        "\n",
        "y_pred_proba1 = RL.predict_proba(X_test)[:, 1]\n",
        "fpr, tpr, _ = metrics.roc_curve(Y_test, y_pred_proba1)\n",
        "auc = metrics.roc_auc_score(Y_test, y_pred_proba1)\n",
        "\n",
        "plt.plot(fpr, tpr, label=\"Régression Logistique, AUC = {:.2f}\".format(auc))\n",
        "plt.legend(loc=\"lower right\")\n",
        "plt.title('Courbe ROC de la Régression Logistique', fontsize=16)\n",
        "plt.xlabel('Taux de faux positifs', fontsize=12)\n",
        "plt.ylabel('Taux de vrais positifs', fontsize=12)\n",
        "plt.grid(True)\n",
        "plt.show()"
      ]
    },
    {
      "cell_type": "code",
      "execution_count": null,
      "id": "5f9dbc5d",
      "metadata": {
        "id": "5f9dbc5d",
        "outputId": "4436a5be-cb1d-4d52-cbff-ec621958be13"
      },
      "outputs": [
        {
          "name": "stdout",
          "output_type": "stream",
          "text": [
            "Precision: 0.90 (CI: 0.85 - 0.95)\n",
            "Recall: 0.89 (CI: 0.84 - 0.94)\n",
            "Accuracy Rate: 0.87 (CI: 0.82 - 0.92)\n",
            "F1 Score: 0.89 (CI: 0.84 - 0.94)\n",
            "Cohen's Kappa: 0.72 (CI: 0.67 - 0.77)\n",
            "Matthews Corrcoef: 0.72 (CI: 0.67 - 0.77)\n",
            "AUC: 0.95 (CI: 0.90 - 1.01)\n"
          ]
        },
        {
          "data": {
            "image/png": "[encoded data removed]",
            "text/plain": [
              "<Figure size 720x720 with 1 Axes>"
            ]
          },
          "metadata": {
            "needs_background": "light"
          },
          "output_type": "display_data"
        }
      ],
      "source": [
        "from sklearn.metrics import accuracy_score, f1_score, precision_score, recall_score, cohen_kappa_score, matthews_corrcoef\n",
        "from scipy import stats\n",
        "import numpy as np\n",
        "import matplotlib.pyplot as plt\n",
        "\n",
        "# Calculer les métriques\n",
        "Accuracy_Rate1 = accuracy_score(Y_test, Y_pred1)\n",
        "F1_score1 = f1_score(Y_test, Y_pred1)\n",
        "Precision1 = precision_score(Y_test, Y_pred1)\n",
        "Recall1 = recall_score(Y_test, Y_pred1)\n",
        "CK1 = cohen_kappa_score(Y_test, Y_pred1)\n",
        "MC1 = matthews_corrcoef(Y_test, Y_pred1)\n",
        "auc1 = metrics.roc_auc_score(Y_test, y_pred_proba1)\n",
        "\n",
        "# Calculer les intervalles de confiance\n",
        "conf_level = 0.95\n",
        "\n",
        "# Create a list of metric names and values\n",
        "metric_names = [\"Precision\", \"Recall\", \"Accuracy Rate\", \"F1 Score\", \"Cohen's Kappa\", \"Matthews Corrcoef\", \"AUC\"]\n",
        "metric_values = [Precision1, Recall1, Accuracy_Rate1, F1_score1, CK1, MC1, auc1]\n",
        "\n",
        "# Calculate confidence intervals using normal distribution approximation\n",
        "conf_intervals = [stats.norm.interval(conf_level, loc=metric_val, scale=stats.sem(Y_pred1 == Y_test)) for metric_val in metric_values]\n",
        "\n",
        "# Print metric names, values, and confidence intervals\n",
        "for name, value, interval in zip(metric_names, metric_values, conf_intervals):\n",
        "    print(f\"{name}: {value:.2f} (CI: {interval[0]:.2f} - {interval[1]:.2f})\")\n",
        "\n",
        "# Create a bar chart\n",
        "fig, ax = plt.subplots(figsize=(10, 10))\n",
        "ax.bar(metric_names, metric_values, yerr=np.array(conf_intervals).T)\n",
        "ax.set_ylabel('Value')\n",
        "ax.set_title('Performance Metrics')\n",
        "plt.show()"
      ]
    },
    {
      "cell_type": "markdown",
      "id": "920f6f5e",
      "metadata": {
        "id": "920f6f5e"
      },
      "source": [
        "## 2- Random Forest"
      ]
    },
    {
      "cell_type": "code",
      "execution_count": null,
      "id": "be7ebc46",
      "metadata": {
        "id": "be7ebc46",
        "outputId": "89304b9c-8c6e-475d-e769-30e78b9c5617"
      },
      "outputs": [
        {
          "data": {
            "text/plain": [
              "RandomForestClassifier(random_state=42)"
            ]
          },
          "execution_count": 31,
          "metadata": {},
          "output_type": "execute_result"
        }
      ],
      "source": [
        "# Importation de la classe RandomForestClassifier\n",
        "from sklearn.ensemble import RandomForestClassifier\n",
        "\n",
        "# Création et entraînement du modèle de forêt aléatoire\n",
        "RF = RandomForestClassifier(n_estimators=100, random_state=42)\n",
        "RF.fit(X_train, Y_train)"
      ]
    },
    {
      "cell_type": "code",
      "execution_count": null,
      "id": "8aab5565",
      "metadata": {
        "id": "8aab5565",
        "outputId": "7600c131-404b-454e-cb5b-57e040231d96"
      },
      "outputs": [
        {
          "name": "stdout",
          "output_type": "stream",
          "text": [
            "[1 1 1 0 0 1 1 1 1 1 1 0 1 1 1 1 0 1 1 1 1 1 1 0 0 0 1 1 0 1 1 0 0 1 1 1 1\n",
            " 0 1 1 1 0 1 0 0 1 1 0 1 0 1 0 1 0 1 1 1 1 1 1 0 0 1 0 1 0 1 0 1 1 0 0 1 1\n",
            " 0 1 0 1 1 0 1 1 0 0 1 0 1 1 0 0 0 0 0 0 0 1 1 1 1 0 0 1 1 1 0 0 1 0 1 0 0\n",
            " 0 1 0 1 1 0 1 0 0 0 0 1 0 1 1 0 0 0 0 1 0 1 1 1 1 1 1 1 1 1 1 0 0 0 0 1 1\n",
            " 1 0 1 1 1 1 1 1 1 1 0 1 1 1 1 0 1 1 0 1 0 1 1 0 0 1]\n"
          ]
        }
      ],
      "source": [
        "# Prédire les classes pour les données de test en utilisant les mêmes fonctionnalités sélectionnées\n",
        "Y_pred2 = RF.predict(X_test)\n",
        "\n",
        "# Afficher les prédictions\n",
        "print(Y_pred2)"
      ]
    },
    {
      "cell_type": "code",
      "execution_count": null,
      "id": "390d938f",
      "metadata": {
        "scrolled": true,
        "id": "390d938f",
        "outputId": "c02f414b-e848-4a5b-b8ac-78a53d654735"
      },
      "outputs": [
        {
          "data": {
            "text/plain": [
              "array([[ 66,   1],\n",
              "       [  3, 104]], dtype=int64)"
            ]
          },
          "execution_count": 33,
          "metadata": {},
          "output_type": "execute_result"
        }
      ],
      "source": [
        "CM2 = confusion_matrix(Y_test, Y_pred2)\n",
        "CM2"
      ]
    },
    {
      "cell_type": "code",
      "execution_count": null,
      "id": "94e0f7b2",
      "metadata": {
        "id": "94e0f7b2",
        "outputId": "3f9f17db-c63f-4582-c177-bd87d68690cb"
      },
      "outputs": [
        {
          "data": {
            "image/png": "[encoded data removed]",
            "text/plain": [
              "<Figure size 432x288 with 2 Axes>"
            ]
          },
          "metadata": {
            "needs_background": "light"
          },
          "output_type": "display_data"
        }
      ],
      "source": [
        "group_names = ['True Neg','False Pos','False Neg','True Pos']\n",
        "group_counts = ['{0:0.0f}'.format(value) for value in\n",
        "                CM2.flatten()]\n",
        "group_percentages = ['{0:.2%}'.format(value) for value in\n",
        "                     CM2.flatten()/np.sum(CM2)]\n",
        "labels = [f'{v1}\\n{v2}\\n{v3}' for v1, v2, v3 in\n",
        "          zip(group_names,group_counts,group_percentages)]\n",
        "labels = np.asarray(labels).reshape(2,2)\n",
        "sns.heatmap(CM2, annot=labels, fmt='', cmap='Pastel1')\n",
        "plt.xlabel('Predicted Label', fontsize=14)\n",
        "plt.ylabel('True Label', fontsize=14)\n",
        "plt.title('Confusion Matrix RANDOM FOREST', fontsize=16)\n",
        "plt.tight_layout()\n",
        "plt.show()"
      ]
    },
    {
      "cell_type": "code",
      "execution_count": null,
      "id": "a5a16dd4",
      "metadata": {
        "id": "a5a16dd4",
        "outputId": "dae61cd1-5625-4173-c286-319ee434755d"
      },
      "outputs": [
        {
          "data": {
            "image/png": "[encoded data removed]",
            "text/plain": [
              "<Figure size 432x288 with 1 Axes>"
            ]
          },
          "metadata": {
            "needs_background": "light"
          },
          "output_type": "display_data"
        }
      ],
      "source": [
        "# Prédictions des probabilités pour la classe positive (classe 1)\n",
        "y_pred_proba_rf = RF.predict_proba(X_test)[:, 1]\n",
        "\n",
        "# Calculer les taux de faux positifs et de vrais positifs\n",
        "fpr_rf, tpr_rf, _ = metrics.roc_curve(Y_test, y_pred_proba_rf)\n",
        "\n",
        "# Calcul de l'aire sous la courbe ROC (AUC)\n",
        "auc_rf = metrics.roc_auc_score(Y_test, y_pred_proba_rf)\n",
        "\n",
        "# Tracer la courbe ROC\n",
        "plt.plot(fpr_rf, tpr_rf, label=\"Random Forest, AUC = {:.2f}\".format(auc_rf))\n",
        "plt.legend(loc=\"lower right\")\n",
        "plt.title('Courbe ROC du Random Forest', fontsize=16)\n",
        "plt.xlabel('Taux de faux positifs', fontsize=12)\n",
        "plt.ylabel('Taux de vrais positifs', fontsize=12)\n",
        "plt.grid(True)\n",
        "plt.show()"
      ]
    },
    {
      "cell_type": "code",
      "execution_count": null,
      "id": "481fa612",
      "metadata": {
        "id": "481fa612",
        "outputId": "ff298665-1a87-4836-98ed-e223bfd7750a"
      },
      "outputs": [
        {
          "name": "stdout",
          "output_type": "stream",
          "text": [
            "AUC: 0.9920491002929279\n",
            "Intervalle de confiance à 95%: (0.9816159264210735, 0.9995957156600764)\n"
          ]
        }
      ],
      "source": [
        "import numpy as np\n",
        "from sklearn import metrics\n",
        "\n",
        "# Réinitialiser l'index de Y_test\n",
        "Y_test = Y_test.reset_index(drop=True)\n",
        "\n",
        "# Calculer l'aire sous la courbe ROC (AUC) pour les prédictions\n",
        "auc = metrics.roc_auc_score(Y_test, y_pred_proba_rf)\n",
        "\n",
        "# Nombre d'échantillons bootstrap\n",
        "n_bootstrap = 1000\n",
        "\n",
        "# Liste pour stocker les valeurs d'AUC bootstrap\n",
        "auc_bootstrap = []\n",
        "\n",
        "# Effectuer le bootstrap\n",
        "for _ in range(n_bootstrap):\n",
        "    # Générer un échantillon bootstrap en rééchantillonnant les prédictions avec remplacement\n",
        "    indices = np.random.choice(len(y_pred_proba_rf), len(y_pred_proba_rf), replace=True)\n",
        "    bootstrap_preds = y_pred_proba_rf[indices]\n",
        "    bootstrap_labels = Y_test[indices]\n",
        "\n",
        "    # Réinitialiser l'index de bootstrap_labels\n",
        "    bootstrap_labels = bootstrap_labels.reset_index(drop=True)\n",
        "\n",
        "    # Calculer l'AUC pour l'échantillon bootstrap\n",
        "    bootstrap_auc = metrics.roc_auc_score(bootstrap_labels, bootstrap_preds)\n",
        "\n",
        "    # Ajouter l'AUC bootstrap à la liste\n",
        "    auc_bootstrap.append(bootstrap_auc)\n",
        "\n",
        "# Calculer l'intervalle de confiance à 95% pour l'AUC\n",
        "lower = np.percentile(auc_bootstrap, 2.5)\n",
        "upper = np.percentile(auc_bootstrap, 97.5)\n",
        "\n",
        "# Afficher l'AUC et l'intervalle de confiance\n",
        "print(\"AUC:\", auc)\n",
        "print(\"Intervalle de confiance à 95%:\", (lower, upper))"
      ]
    },
    {
      "cell_type": "code",
      "execution_count": null,
      "id": "b1806b65",
      "metadata": {
        "scrolled": true,
        "id": "b1806b65",
        "outputId": "a29f2f67-3b84-4ac0-c394-db3ab6e95627"
      },
      "outputs": [
        {
          "name": "stdout",
          "output_type": "stream",
          "text": [
            "Precision : 0.99\n",
            "Recall OU SENSIBILITE: 0.97\n",
            "Accuracy rate:  0.9770114942528736\n",
            "Error rate :  0.02298850574712641\n",
            "F1_score:  0.9811320754716981\n",
            "CK: 0.9517270079067832\n",
            "MC: 0.9520043531040515\n",
            "AUC: 0.9920491002929279\n"
          ]
        },
        {
          "data": {
            "image/png": "[encoded data removed]",
            "text/plain": [
              "<Figure size 720x720 with 1 Axes>"
            ]
          },
          "metadata": {
            "needs_background": "light"
          },
          "output_type": "display_data"
        }
      ],
      "source": [
        "Accuracy_Rate2 = accuracy_score(Y_test, Y_pred2)\n",
        "Error_rate2 = 1 - Accuracy_Rate2\n",
        "F1_score2 = f1_score(Y_test, Y_pred2)\n",
        "Precision2 = precision_score(Y_test, Y_pred2)\n",
        "Recall2 = recall_score(Y_test, Y_pred2)\n",
        "CK2 = cohen_kappa_score (Y_test,Y_pred2)\n",
        "MC2 = matthews_corrcoef(Y_test,Y_pred2)\n",
        "auc2 = metrics.roc_auc_score(Y_test,y_pred_proba_rf)\n",
        "\n",
        "print(\"Precision : {:.2f}\".format(Precision2))\n",
        "print(\"Recall OU SENSIBILITE: {:.2f}\".format(Recall2))\n",
        "print(\"Accuracy rate: \", Accuracy_Rate2)\n",
        "print(\"Error rate : \",Error_rate2)\n",
        "print(\"F1_score: \", F1_score2)\n",
        "print(\"CK:\", CK2)\n",
        "print(\"MC:\", MC2)\n",
        "print(\"AUC:\", auc2)\n",
        "\n",
        "\n",
        "# create a list of metric names and values\n",
        "metric_names = [\"Precision\", \"Recall\", \"Accuracy Rate\", \"Error Rate\", \"F1 Score\", \"CK\", \"MC\",\"AUC\"]\n",
        "metric_values = [Precision2, Recall2, Accuracy_Rate2, Error_rate2, F1_score2, CK2, MC2,auc2]\n",
        "\n",
        "# create a bar chart\n",
        "fig, ax = plt.subplots(figsize=(10,10))\n",
        "ax.bar(metric_names, metric_values)\n",
        "ax.set_ylabel('Value')\n",
        "ax.set_ylim([0,1])\n",
        "ax.set_title('Performance Metrics')\n",
        "plt.show()"
      ]
    },
    {
      "cell_type": "code",
      "execution_count": null,
      "id": "981775f4",
      "metadata": {
        "id": "981775f4",
        "outputId": "534a6ae3-74be-4809-ab71-5eaf0d6ce9bd"
      },
      "outputs": [
        {
          "name": "stdout",
          "output_type": "stream",
          "text": [
            "Accuracy Rate Confidence Interval (95%): [0.95402299 0.99425287]\n",
            "Error Rate Confidence Interval (95%): [0.00574713 0.04597701]\n",
            "F1 Score Confidence Interval (95%): [0.95964012 0.99578234]\n",
            "Precision Confidence Interval (95%): [0.96841265 1.        ]\n",
            "Recall Confidence Interval (95%): [0.94 1.  ]\n",
            "Cohen's Kappa Confidence Interval (95%): [0.89913681 0.98830173]\n",
            "Matthews Correlation Coefficient Confidence Interval (95%): [0.90160287 0.98846192]\n",
            "AUC Confidence Interval (95%): [0.95469541 0.99557522]\n"
          ]
        }
      ],
      "source": [
        "import numpy as np\n",
        "from sklearn.utils import resample\n",
        "from sklearn.metrics import accuracy_score, f1_score, precision_score, recall_score, cohen_kappa_score, matthews_corrcoef, roc_auc_score\n",
        "\n",
        "# Définir les métriques à évaluer\n",
        "metrics = {\n",
        "    \"Accuracy Rate\": accuracy_score,\n",
        "    \"Error Rate\": lambda y_true, y_pred: 1 - accuracy_score(y_true, y_pred),\n",
        "    \"F1 Score\": f1_score,\n",
        "    \"Precision\": precision_score,\n",
        "    \"Recall\": recall_score,\n",
        "    \"Cohen's Kappa\": cohen_kappa_score,\n",
        "    \"Matthews Correlation Coefficient\": matthews_corrcoef,\n",
        "    \"AUC\": roc_auc_score\n",
        "}\n",
        "\n",
        "# Nombre d'échantillons bootstrap\n",
        "n_iterations = 1000\n",
        "\n",
        "# Initialiser un dictionnaire pour stocker les intervalles de confiance\n",
        "confidence_intervals = {}\n",
        "\n",
        "# Boucle à travers les métriques\n",
        "for metric_name, metric_func in metrics.items():\n",
        "    # Liste pour stocker les métriques échantillonnées\n",
        "    metric_samples = []\n",
        "\n",
        "    # Boucle pour effectuer le bootstrap\n",
        "    for _ in range(n_iterations):\n",
        "        # Échantillonnage bootstrap des prédictions\n",
        "        indices = np.random.choice(len(y_pred_proba_rf), len(y_pred_proba_rf), replace=True)\n",
        "        bootstrap_preds = y_pred_proba_rf[indices]\n",
        "        bootstrap_labels = Y_test[indices]\n",
        "\n",
        "        # Calcul de la métrique pour l'échantillon bootstrap\n",
        "        metric_value = metric_func(bootstrap_labels, np.round(bootstrap_preds))\n",
        "        metric_samples.append(metric_value)\n",
        "\n",
        "    # Calcul de l'intervalle de confiance à 95% pour la métrique\n",
        "    confidence_interval = np.percentile(metric_samples, [2.5, 97.5])\n",
        "    confidence_intervals[metric_name] = confidence_interval\n",
        "\n",
        "    print(f\"{metric_name} Confidence Interval (95%):\", confidence_interval)\n"
      ]
    },
    {
      "cell_type": "markdown",
      "id": "98f96033",
      "metadata": {
        "id": "98f96033"
      },
      "source": [
        "## 3- Arbre de décision"
      ]
    },
    {
      "cell_type": "code",
      "execution_count": null,
      "id": "1698c4f6",
      "metadata": {
        "id": "1698c4f6"
      },
      "outputs": [],
      "source": [
        "from sklearn.metrics import roc_curve, roc_auc_score"
      ]
    },
    {
      "cell_type": "code",
      "execution_count": null,
      "id": "60ef95d5",
      "metadata": {
        "id": "60ef95d5",
        "outputId": "b4666a18-48b2-43ce-c494-fe533b4cf8c5"
      },
      "outputs": [
        {
          "data": {
            "text/plain": [
              "DecisionTreeClassifier(random_state=42)"
            ]
          },
          "execution_count": 40,
          "metadata": {},
          "output_type": "execute_result"
        }
      ],
      "source": [
        "# Importation de la classe DecisionTreeClassifier\n",
        "from sklearn.tree import DecisionTreeClassifier\n",
        "\n",
        "# Création et entraînement du modèle d'arbre de décision\n",
        "DT = DecisionTreeClassifier(random_state=42)\n",
        "DT.fit(X_train, Y_train)"
      ]
    },
    {
      "cell_type": "code",
      "execution_count": null,
      "id": "31b132b1",
      "metadata": {
        "id": "31b132b1",
        "outputId": "39b1ef25-425e-40eb-d15c-fe4e9ad7b1b3"
      },
      "outputs": [
        {
          "name": "stdout",
          "output_type": "stream",
          "text": [
            "[1 1 1 0 0 1 1 1 1 1 1 0 1 1 1 1 0 1 1 1 1 1 1 0 0 0 1 1 0 1 1 0 0 1 1 1 1\n",
            " 0 1 1 1 0 1 0 0 1 1 0 1 0 1 0 1 0 1 1 1 1 1 1 0 0 1 0 1 0 1 0 1 1 0 0 1 1\n",
            " 0 1 0 1 1 0 1 1 0 0 1 0 1 1 0 0 0 0 0 0 0 1 1 1 1 0 0 1 1 1 0 0 1 0 1 0 0\n",
            " 0 0 0 1 1 0 1 0 0 0 0 1 0 1 1 0 0 0 0 1 0 0 1 1 1 1 1 1 1 1 1 0 0 0 0 1 1\n",
            " 1 0 1 1 1 1 1 1 1 1 0 1 1 1 0 0 1 1 1 1 0 1 1 0 0 1]\n"
          ]
        }
      ],
      "source": [
        "# Prédire les classes pour les données de test en utilisant les mêmes fonctionnalités sélectionnées\n",
        "Y_pred3 = DT.predict(X_test)\n",
        "\n",
        "# Afficher les prédictions\n",
        "print(Y_pred3)"
      ]
    },
    {
      "cell_type": "code",
      "execution_count": null,
      "id": "19f2dd4b",
      "metadata": {
        "id": "19f2dd4b",
        "outputId": "e6049f20-27b4-4582-928a-abe2d49a7e1b"
      },
      "outputs": [
        {
          "data": {
            "text/plain": [
              "array([[ 66,   1],\n",
              "       [  5, 102]], dtype=int64)"
            ]
          },
          "execution_count": 42,
          "metadata": {},
          "output_type": "execute_result"
        }
      ],
      "source": [
        "CM3 = confusion_matrix(Y_test, Y_pred3)\n",
        "CM3"
      ]
    },
    {
      "cell_type": "code",
      "execution_count": null,
      "id": "40b30178",
      "metadata": {
        "id": "40b30178",
        "outputId": "556bc2c9-fe3c-493c-f1bd-cef92442a551"
      },
      "outputs": [
        {
          "data": {
            "image/png": "[encoded data removed]",
            "text/plain": [
              "<Figure size 432x288 with 2 Axes>"
            ]
          },
          "metadata": {
            "needs_background": "light"
          },
          "output_type": "display_data"
        }
      ],
      "source": [
        "group_names = ['True Neg','False Pos','False Neg','True Pos']\n",
        "group_counts = ['{0:0.0f}'.format(value) for value in\n",
        "                CM3.flatten()]\n",
        "group_percentages = ['{0:.2%}'.format(value) for value in\n",
        "                     CM3.flatten()/np.sum(CM3)]\n",
        "labels = [f'{v1}\\n{v2}\\n{v3}' for v1, v2, v3 in\n",
        "          zip(group_names,group_counts,group_percentages)]\n",
        "labels = np.asarray(labels).reshape(2,2)\n",
        "sns.heatmap(CM3, annot=labels, fmt='', cmap='Pastel2')\n",
        "plt.xlabel('Predicted Label', fontsize=14)\n",
        "plt.ylabel('True Label', fontsize=14)\n",
        "plt.title('Confusion Matrix RANDOM FOREST', fontsize=16)\n",
        "plt.tight_layout()\n",
        "plt.show()"
      ]
    },
    {
      "cell_type": "code",
      "execution_count": null,
      "id": "60913eff",
      "metadata": {
        "id": "60913eff",
        "outputId": "b14596eb-0854-494c-c1ca-f101a2828ffa"
      },
      "outputs": [
        {
          "data": {
            "image/png": "[encoded data removed]",
            "text/plain": [
              "<Figure size 432x288 with 1 Axes>"
            ]
          },
          "metadata": {
            "needs_background": "light"
          },
          "output_type": "display_data"
        }
      ],
      "source": [
        "# Prédictions des probabilités pour la classe positive (classe 1)\n",
        "y_pred_proba_dt = DT.predict_proba(X_test)[:, 1]\n",
        "\n",
        "# Calculer les taux de faux positifs et de vrais positifs\n",
        "fpr_rf, tpr_rf, _ = roc_curve(Y_test, y_pred_proba_dt)\n",
        "\n",
        "# Calcul de l'aire sous la courbe ROC (AUC)\n",
        "auc_rf = roc_auc_score(Y_test, y_pred_proba_dt)\n",
        "\n",
        "# Tracer la courbe ROC\n",
        "plt.plot(fpr_rf, tpr_rf, label=\"Random Forest, AUC = {:.2f}\".format(auc_rf))\n",
        "plt.legend(loc=\"lower right\")\n",
        "plt.title('Courbe ROC du Random Forest', fontsize=16)\n",
        "plt.xlabel('Taux de faux positifs', fontsize=12)\n",
        "plt.ylabel('Taux de vrais positifs', fontsize=12)\n",
        "plt.grid(True)\n",
        "plt.show()"
      ]
    },
    {
      "cell_type": "code",
      "execution_count": null,
      "id": "5ef85534",
      "metadata": {
        "id": "5ef85534",
        "outputId": "a0acea85-7de4-4100-d5f5-e21039ca61ed"
      },
      "outputs": [
        {
          "name": "stdout",
          "output_type": "stream",
          "text": [
            "Precision: 0.99 (CI: 0.96 - 1.02)\n",
            "Recall: 0.95 (CI: 0.93 - 0.98)\n",
            "Accuracy Rate: 0.97 (CI: 0.94 - 0.99)\n",
            "F1 Score: 0.97 (CI: 0.94 - 1.00)\n",
            "Cohen's Kappa: 0.93 (CI: 0.90 - 0.96)\n",
            "Matthews Corrcoef: 0.93 (CI: 0.90 - 0.96)\n",
            "AUC: 0.97 (CI: 0.95 - 1.00)\n"
          ]
        },
        {
          "data": {
            "image/png": "[encoded data removed]",
            "text/plain": [
              "<Figure size 720x720 with 1 Axes>"
            ]
          },
          "metadata": {
            "needs_background": "light"
          },
          "output_type": "display_data"
        }
      ],
      "source": [
        "\n",
        "# Prédictions des probabilités pour la classe positive (classe 1)\n",
        "y_pred_proba_dt = DT.predict_proba(X_test)[:, 1]\n",
        "\n",
        "# Calculer les métriques\n",
        "Accuracy_Rate_dt = accuracy_score(Y_test, Y_pred3)\n",
        "F1_score_dt = f1_score(Y_test, Y_pred3)\n",
        "Precision_dt = precision_score(Y_test, Y_pred3)\n",
        "Recall_dt = recall_score(Y_test, Y_pred3)\n",
        "CK_dt = cohen_kappa_score(Y_test, Y_pred3)\n",
        "MC_dt = matthews_corrcoef(Y_test, Y_pred3)\n",
        "auc_dt = roc_auc_score(Y_test, y_pred_proba_dt)\n",
        "\n",
        "# Calculer les intervalles de confiance\n",
        "conf_level = 0.95\n",
        "\n",
        "# Create a list of metric names and values\n",
        "metric_names_dt = [\"Precision\", \"Recall\", \"Accuracy Rate\", \"F1 Score\", \"Cohen's Kappa\", \"Matthews Corrcoef\", \"AUC\"]\n",
        "metric_values_dt = [Precision_dt, Recall_dt, Accuracy_Rate_dt, F1_score_dt, CK_dt, MC_dt, auc_dt]\n",
        "\n",
        "# Calculate confidence intervals using normal distribution approximation\n",
        "conf_intervals_dt = [stats.norm.interval(conf_level, loc=metric_val, scale=stats.sem(Y_pred3 == Y_test)) for metric_val in metric_values_dt]\n",
        "\n",
        "# Print metric names, values, and confidence intervals\n",
        "for name, value, interval in zip(metric_names_dt, metric_values_dt, conf_intervals_dt):\n",
        "    print(f\"{name}: {value:.2f} (CI: {interval[0]:.2f} - {interval[1]:.2f})\")\n",
        "\n",
        "# Create a bar chart\n",
        "fig, ax = plt.subplots(figsize=(10, 10))\n",
        "ax.bar(metric_names_dt, metric_values_dt, yerr=np.array(conf_intervals_dt).T)\n",
        "ax.set_ylabel('Value')\n",
        "ax.set_title('Performance Metrics for Decision Tree')\n",
        "plt.show()\n"
      ]
    },
    {
      "cell_type": "markdown",
      "id": "a7b80259",
      "metadata": {
        "id": "a7b80259"
      },
      "source": [
        "## 4- Support Vector Machine (SVM)"
      ]
    },
    {
      "cell_type": "code",
      "execution_count": null,
      "id": "8a380e7c",
      "metadata": {
        "id": "8a380e7c",
        "outputId": "a083d72e-83cb-4187-e10c-fc0ea06d649f"
      },
      "outputs": [
        {
          "data": {
            "text/plain": [
              "SVC(probability=True, random_state=42)"
            ]
          },
          "execution_count": 47,
          "metadata": {},
          "output_type": "execute_result"
        }
      ],
      "source": [
        "# Importation de la classe SVM\n",
        "from sklearn.svm import SVC\n",
        "\n",
        "# Création et entraînement du modèle SVM\n",
        "SVM= SVC(probability=True, random_state=42)\n",
        "SVM.fit(X_train, Y_train)"
      ]
    },
    {
      "cell_type": "code",
      "execution_count": null,
      "id": "7e4e2590",
      "metadata": {
        "id": "7e4e2590",
        "outputId": "e6818e20-6d50-4d44-e50a-194b0953e5f4"
      },
      "outputs": [
        {
          "name": "stdout",
          "output_type": "stream",
          "text": [
            "[1 1 1 0 1 1 1 1 1 1 1 0 1 1 1 1 0 1 1 1 1 1 1 0 0 0 1 1 1 1 1 0 0 1 1 1 1\n",
            " 0 1 1 1 0 1 0 0 1 1 0 1 0 1 0 1 0 1 1 1 1 1 1 0 0 1 0 1 0 1 0 1 1 0 0 1 1\n",
            " 0 1 0 1 1 0 1 1 0 0 1 0 1 1 0 0 0 0 0 0 1 1 1 1 1 0 0 1 1 1 0 0 1 0 1 0 0\n",
            " 0 1 0 1 0 0 1 0 0 0 0 1 0 1 1 0 0 0 0 1 0 1 1 1 1 1 1 1 1 1 1 0 0 0 0 1 1\n",
            " 1 0 1 1 1 1 1 1 1 1 0 0 1 1 1 0 1 1 0 1 0 1 1 0 0 1]\n"
          ]
        }
      ],
      "source": [
        "# Prédire les classes pour les données de test en utilisant les mêmes fonctionnalités sélectionnées\n",
        "Y_pred4 = SVM.predict(X_test)\n",
        "\n",
        "# Afficher les prédictions\n",
        "print(Y_pred4)"
      ]
    },
    {
      "cell_type": "code",
      "execution_count": null,
      "id": "bce7e6b5",
      "metadata": {
        "id": "bce7e6b5",
        "outputId": "e0bf649e-cfa4-45b7-d51f-9a8717369559"
      },
      "outputs": [
        {
          "data": {
            "text/plain": [
              "array([[ 63,   4],\n",
              "       [  5, 102]], dtype=int64)"
            ]
          },
          "execution_count": 49,
          "metadata": {},
          "output_type": "execute_result"
        }
      ],
      "source": [
        "CM4 = confusion_matrix(Y_test, Y_pred4)\n",
        "CM4"
      ]
    },
    {
      "cell_type": "code",
      "execution_count": null,
      "id": "34e5589e",
      "metadata": {
        "id": "34e5589e",
        "outputId": "cc34f7a8-7907-4836-be9b-bd253430d4ab"
      },
      "outputs": [
        {
          "data": {
            "image/png": "[encoded data removed]",
            "text/plain": [
              "<Figure size 432x288 with 2 Axes>"
            ]
          },
          "metadata": {
            "needs_background": "light"
          },
          "output_type": "display_data"
        }
      ],
      "source": [
        "import seaborn as sns\n",
        "group_names_svm = ['True Neg','False Pos','False Neg','True Pos']\n",
        "group_counts_svm = ['{0:0.0f}'.format(value) for value in CM4.flatten()]\n",
        "group_percentages_svm = ['{0:.2%}'.format(value) for value in CM4.flatten()/np.sum(CM4)]\n",
        "labels_svm = [f'{v1}\\n{v2}\\n{v3}' for v1, v2, v3 in zip(group_names_svm,group_counts_svm,group_percentages_svm)]\n",
        "labels_svm = np.asarray(labels_svm).reshape(2,2)\n",
        "sns.heatmap(CM4, annot=labels_svm, fmt='', cmap='Dark2')\n",
        "plt.xlabel('Predicted Label', fontsize=14)\n",
        "plt.ylabel('True Label', fontsize=14)\n",
        "plt.title('Confusion Matrix SVM', fontsize=16)\n",
        "plt.tight_layout()\n",
        "plt.show()"
      ]
    },
    {
      "cell_type": "code",
      "execution_count": null,
      "id": "7ba5be03",
      "metadata": {
        "id": "7ba5be03",
        "outputId": "12033439-ddc1-4d74-81d0-65b505467674"
      },
      "outputs": [
        {
          "data": {
            "image/png": "[encoded data removed]",
            "text/plain": [
              "<Figure size 432x288 with 1 Axes>"
            ]
          },
          "metadata": {
            "needs_background": "light"
          },
          "output_type": "display_data"
        }
      ],
      "source": [
        "# Prédictions des probabilités pour la classe positive (classe 1)\n",
        "y_pred_proba_svm = SVM.predict_proba(X_test)[:, 1]\n",
        "\n",
        "# Calculer les taux de faux positifs et de vrais positifs\n",
        "fpr_rf, tpr_rf, _ = roc_curve(Y_test, y_pred_proba_svm)\n",
        "\n",
        "# Calcul de l'aire sous la courbe ROC (AUC)\n",
        "auc_svm = roc_auc_score(Y_test, y_pred_proba_svm)\n",
        "\n",
        "# Tracer la courbe ROC\n",
        "plt.plot(fpr_rf, tpr_rf, label=\"Random Forest, AUC = {:.2f}\".format(auc_svm))\n",
        "plt.legend(loc=\"lower right\")\n",
        "plt.title('Courbe ROC du Random Forest', fontsize=16)\n",
        "plt.xlabel('Taux de faux positifs', fontsize=12)\n",
        "plt.ylabel('Taux de vrais positifs', fontsize=12)\n",
        "plt.grid(True)\n",
        "plt.show()"
      ]
    },
    {
      "cell_type": "code",
      "execution_count": null,
      "id": "a2433978",
      "metadata": {
        "id": "a2433978",
        "outputId": "2a732206-83bf-4263-dad6-a46fbde14b09"
      },
      "outputs": [
        {
          "name": "stdout",
          "output_type": "stream",
          "text": [
            "Precision: 0.96 (CI: 0.93 - 1.00)\n",
            "Recall: 0.95 (CI: 0.92 - 0.99)\n",
            "Accuracy Rate: 0.95 (CI: 0.92 - 0.98)\n",
            "F1 Score: 0.96 (CI: 0.92 - 0.99)\n",
            "Cohen's Kappa: 0.89 (CI: 0.86 - 0.92)\n",
            "Matthews Corrcoef: 0.89 (CI: 0.86 - 0.92)\n",
            "AUC: 0.99 (CI: 0.96 - 1.02)\n"
          ]
        },
        {
          "data": {
            "image/png": "[encoded data removed]",
            "text/plain": [
              "<Figure size 720x720 with 1 Axes>"
            ]
          },
          "metadata": {
            "needs_background": "light"
          },
          "output_type": "display_data"
        }
      ],
      "source": [
        "# Métriques de performance pour SVM\n",
        "Accuracy_Rate_svm = accuracy_score(Y_test, Y_pred4)\n",
        "F1_score_svm = f1_score(Y_test, Y_pred4)\n",
        "Precision_svm = precision_score(Y_test, Y_pred4)\n",
        "Recall_svm = recall_score(Y_test, Y_pred4)\n",
        "CK_svm = cohen_kappa_score(Y_test, Y_pred4)\n",
        "MC_svm = matthews_corrcoef(Y_test, Y_pred4)\n",
        "\n",
        "# Métriques de performance pour SVM avec les prédictions renommées Y_pred4\n",
        "Accuracy_Rate_svm = accuracy_score(Y_test, Y_pred4)\n",
        "F1_score_svm = f1_score(Y_test, Y_pred4)\n",
        "Precision_svm = precision_score(Y_test, Y_pred4)\n",
        "Recall_svm = recall_score(Y_test, Y_pred4)\n",
        "CK_svm = cohen_kappa_score(Y_test, Y_pred4)\n",
        "MC_svm = matthews_corrcoef(Y_test, Y_pred4)\n",
        "\n",
        "# Calcul des intervalles de confiance\n",
        "conf_intervals_svm = [stats.norm.interval(conf_level, loc=metric_val, scale=stats.sem(Y_pred4 == Y_test)) for metric_val in [Precision_svm, Recall_svm, Accuracy_Rate_svm, F1_score_svm, CK_svm, MC_svm, auc_svm]]\n",
        "\n",
        "# Impression des métriques avec intervalles de confiance\n",
        "metric_names_svm = [\"Precision\", \"Recall\", \"Accuracy Rate\", \"F1 Score\", \"Cohen's Kappa\", \"Matthews Corrcoef\", \"AUC\"]\n",
        "metric_values_svm = [Precision_svm, Recall_svm, Accuracy_Rate_svm, F1_score_svm, CK_svm, MC_svm, auc_svm]\n",
        "\n",
        "for name, value, interval in zip(metric_names_svm, metric_values_svm, conf_intervals_svm):\n",
        "    print(f\"{name}: {value:.2f} (CI: {interval[0]:.2f} - {interval[1]:.2f})\")\n",
        "\n",
        "# Création d'un graphique en barres\n",
        "fig, ax = plt.subplots(figsize=(10, 10))\n",
        "ax.bar(metric_names_svm, metric_values_svm, yerr=np.array(conf_intervals_svm).T)\n",
        "ax.set_ylabel('Value')\n",
        "ax.set_title('Performance Metrics for SVM')\n",
        "plt.show()"
      ]
    },
    {
      "cell_type": "code",
      "execution_count": null,
      "id": "a7afd90a",
      "metadata": {
        "id": "a7afd90a"
      },
      "outputs": [],
      "source": []
    }
  ],
  "metadata": {
    "kernelspec": {
      "display_name": "Python 3 (ipykernel)",
      "language": "python",
      "name": "python3"
    },
    "language_info": {
      "codemirror_mode": {
        "name": "ipython",
        "version": 3
      },
      "file_extension": ".py",
      "mimetype": "text/x-python",
      "name": "python",
      "nbconvert_exporter": "python",
      "pygments_lexer": "ipython3",
      "version": "3.9.12"
    },
    "colab": {
      "provenance": [],
      "include_colab_link": true
    }
  },
  "nbformat": 4,
  "nbformat_minor": 5
}